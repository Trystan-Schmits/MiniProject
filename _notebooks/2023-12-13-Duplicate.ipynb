{
 "cells": [
  {
   "cell_type": "markdown",
   "metadata": {},
   "source": [
    "---\n",
    "layout: post\n",
    "title: Duplicate\n",
    "description: Local Storage / Character Selection\n",
    "courses: { csse: {week: 14} }\n",
    "type: ccc\n",
    "---"
   ]
  },
  {
   "cell_type": "markdown",
   "metadata": {},
   "source": [
    "# Key Ideas / Overview:\n",
    "- What is LocalStorage: The ability to store information inside of a website/repository\n",
    "- How do we use LocalStorage: We can use local storage using a player and local selection. There are two buttons: save and load.\n",
    "- Why is LocalStorage important? It is used to prevent the loss of data storage. If a tab or window is closed, LocalStorage will be able to recover the data. For example, if a player is far in the game and suddenly crashes or accidentally presses Alt+F4, they will be able to start at the level they crashed on.\n",
    "<br/>\n",
    "Here's an example of [LocalStorage](http://Trystan-Schmits.github.io/MiniProject//2023/12/13/LocalStorageTable.html)"
   ]
  },
  {
   "cell_type": "markdown",
   "metadata": {},
   "source": [
    "# Step 1: Creating the LocalStorage class\n",
    "- First, create the javascript file for LocalStorage. For this lesson, we named it as LocalStorage.js.\n",
    "- Using OOP, we will create the LocalStorage class:"
   ]
  },
  {
   "cell_type": "raw",
   "metadata": {
    "vscode": {
     "languageId": "javascript"
    }
   },
   "source": [
    "## Step 1: The [Local Storage](https://developer.mozilla.org/en-US/docs/Web/API/Window/localStorage) class\n",
    "in *LocalStorage.js*\n",
    "```\n",
    "export class LocalStorage{\n",
    "    constructor(keys){\n",
    "        this.keys = keys;\n",
    "        console.log(\"browser local storage available: \"+String(this.storageAvailable));\n",
    "    }\n",
    "\n",
    "    get storageAvailable(){ //checks if browser is able to use local storage\n",
    "        let type = \"localStorage\";\n",
    "        let storage;\n",
    "        try {\n",
    "          storage = window[type];\n",
    "          const x = \"__storage_test__\";\n",
    "          storage.setItem(x, x);\n",
    "          storage.removeItem(x);\n",
    "          return true;\n",
    "        } catch (e) {\n",
    "          return (\n",
    "            e instanceof DOMException &&\n",
    "            // everything except Firefox\n",
    "            (e.code === 22 ||\n",
    "              // Firefox\n",
    "              e.code === 1014 ||\n",
    "              // test name field too, because code might not be present\n",
    "              // everything except Firefox\n",
    "              e.name === \"QuotaExceededError\" ||\n",
    "              // Firefox\n",
    "              e.name === \"NS_ERROR_DOM_QUOTA_REACHED\") &&\n",
    "            // acknowledge QuotaExceededError only if there's something already stored\n",
    "            storage &&\n",
    "            storage.length !== 0\n",
    "          );\n",
    "        }\n",
    "    }\n",
    "\n",
    "    save(key){ //save a particular key\n",
    "        if(!this.storageAvailable){return}; //check if local storage is possible\n",
    "        window.localStorage.setItem(key,this[key]);\n",
    "    }\n",
    "    \n",
    "    load(key){//load a particular key\n",
    "        if(!this.storageAvailable){return}; //check if local storage is possible\n",
    "        this[key] = window.localStorage.getItem(key);\n",
    "    }\n",
    "\n",
    "    saveAll(){ //saves data for all keys in this.keys\n",
    "        if(!this.storageAvailable){return}; //check if local storage is possible\n",
    "        Object.keys(this.keys).forEach(key => {\n",
    "            window.localStorage.setItem(key,this[key]);\n",
    "        });\n",
    "    }\n",
    "\n",
    "    loadAll(){//loads data from all keys in this.keys\n",
    "        if(!this.storageAvailable){return}; //check if local storage is possible\n",
    "        Object.keys(this.keys).forEach(key => {\n",
    "            this[key] = window.localStorage.getItem(key);\n",
    "        });\n",
    "    }\n",
    "}\n",
    "\n",
    "export default LocalStorage;\n",
    "\n",
    "```\n",
    "This is the code for the LocalStorage class. It is comprised of 4 major functions, and 1 getter.\n",
    "1. getters \n",
    "- the getter: **storageAvailable**, this getter **returns true if your browser is capable of using Local Storage**, otherwise it returns an error message.\n",
    "2. functions\n",
    "- the function **save(key)**, this function saves the value **this.key to the local storage** with the respective key\n",
    "- the function **load(key)**, this function loads the value **from the local storage** with the respective key **to this.key**\n",
    "- the function **saveAll()**, this function saves all of the values of this.key **from the classes this.keys to local storage**\n",
    "- the function **loadAll()**, this function load all of the values **from the local storage** from the classes this.keys **to their respective this.key**"
   ]
  },
  {
   "cell_type": "markdown",
   "metadata": {},
   "source": [
    "# Step 2: Creating the Controller Class"
   ]
  },
  {
   "cell_type": "raw",
   "metadata": {
    "vscode": {
     "languageId": "javascript"
    }
   },
   "source": [
    "// Controller.js\n",
    "\n",
    "import LocalStorage from \"./LocalStorage.js\";\n",
    "import GameEnv from \"./GameEnv.js\";\n",
    "import GameControl from \"./GameControl.js\";\n",
    "\n",
    "export class Controller extends LocalStorage{   \n",
    "    constructor(){\n",
    "        var keys = {currentLevel:\"currentLevel\",gameSpeed:\"gameSpeed\"}; //default keys for localStorage\n",
    "        super(keys); //creates this.keys\n",
    "        \n",
    "    }\n",
    "\n",
    "    //separated from constructor so that class can be created before levels are added\n",
    "    initialize(){ \n",
    "        this.loadAll(); // load data\n",
    "        \n",
    "        if(this[this.keys.currentLevel]){ //update to active level\n",
    "            GameControl.transitionToLevel(GameEnv.levels[Number(this[this.keys.currentLevel])]);\n",
    "        }\n",
    "        else{ //if not currentLevel then set this.currentLevel to 0 (default)\n",
    "            this[this.keys.currentLevel] = 0;\n",
    "        }\n",
    "\n",
    "        if(this[this.keys.gameSpeed]){ //update to custom gameSpeed\n",
    "           GameEnv.gameSpeed = Number(this[this.keys.gameSpeed]);\n",
    "        }\n",
    "        else{ //if not gameSpeedthen set this.gameSpeed to GameEnv.gameSpeed (default)\n",
    "            this[this.keys.gameSpeed] = GameEnv.gameSpeed;\n",
    "        }\n",
    "        \n",
    "        window.addEventListener(\"resize\",()=>{ //updates this.currentLevel when the level changes\n",
    "            this[this.keys.currentLevel] = GameEnv.levels.indexOf(GameEnv.currentLevel);\n",
    "            this.save(this.keys.currentLevel); //save to local storage\n",
    "        });\n",
    "\n",
    "        window.addEventListener(\"speed\",(e)=>{ //updates this.gameSpeed when a speed event is fired\n",
    "            this[this.keys.gameSpeed] = e.detail.speed();\n",
    "            GameEnv.gameSpeed = this[this.keys.gameSpeed]; //reload or change levels to see effect\n",
    "            this.save(this.keys.gameSpeed); //save to local storage\n",
    "        })\n",
    " \n",
    "    }\n",
    "\n",
    "    get levelTable(){\n",
    "        var t = document.createElement(\"table\");\n",
    "        //create header\n",
    "        var header = document.createElement(\"tr\");\n",
    "        var th1 = document.createElement(\"th\");\n",
    "        th1.innerText = \"#\";\n",
    "        header.append(th1);\n",
    "        var th2 = document.createElement(\"th\");\n",
    "        th2.innerText = \"Level Tag\";\n",
    "        header.append(th2);\n",
    "        t.append(header);\n",
    "\n",
    "        //create other rows\n",
    "        for(let i = 0;i < GameEnv.levels.length;i++){\n",
    "            var row = document.createElement(\"tr\");\n",
    "            var td1 = document.createElement(\"td\");\n",
    "            td1.innerText = String(i);\n",
    "            row.append(td1);\n",
    "            var td2 = document.createElement(\"td\");\n",
    "            td2.innerText = GameEnv.levels[i].tag;\n",
    "            td2.addEventListener(\"click\",()=>{ // when player clicks on level name\n",
    "                GameControl.transitionToLevel(GameEnv.levels[i]); //transition to that level\n",
    "            })\n",
    "            row.append(td2);\n",
    "            t.append(row);\n",
    "        }\n",
    "\n",
    "        return t; //returns <table> element\n",
    "    }\n",
    "\n",
    "    get speedDiv(){\n",
    "        var div = document.createElement(\"div\"); //container\n",
    "\n",
    "        var a = document.createElement(\"a\"); //create text\n",
    "        a.innerText = \"Game Speed\";\n",
    "        div.append(a);\n",
    "\n",
    "        var input1 = document.createElement(\"input\"); //create inputfeild\n",
    "        input1.type = \"number\"; //type number (1234...)\n",
    "        const event = new CustomEvent(\"speed\", { detail: {speed:()=>input1.value} });\n",
    "        input1.addEventListener(\"input\",()=>{ //after input feild is edited\n",
    "            window.dispatchEvent(event); //dispatch event to update game speed\n",
    "        })\n",
    "        div.append(input1);\n",
    "        \n",
    "        return div; //returns <div> element\n",
    "    }\n",
    "}\n",
    "\n",
    "export default Controller;"
   ]
  },
  {
   "cell_type": "markdown",
   "metadata": {},
   "source": [
    "[Defining controller.js]"
   ]
  },
  {
   "cell_type": "markdown",
   "metadata": {},
   "source": [
    "# Step 3: Modifying the .md file\n",
    "\n",
    "- I need to talk to Trystan on where he made the changes"
   ]
  },
  {
   "cell_type": "markdown",
   "metadata": {},
   "source": [
    "# Step 4: Other"
   ]
  },
  {
   "cell_type": "markdown",
   "metadata": {},
   "source": [
    "# Homework:\n",
    "- Implement the LocalStorage code in the game (Is the code fully implemented? Does the game save your data after closing the tab/window)\n",
    "- Add an extra setting (examples: gameSpeed, keybinds for movement, etc)\n",
    "\n",
    "# Challenge:\n",
    "- Implement storage for gravity (Hint: Use the GameEnv.gravity variable from GameEnv)"
   ]
  },
  {
   "cell_type": "markdown",
   "metadata": {},
   "source": [
    "# Misc.\n",
    "Document getElementByID imports the idea put inside of the parentheses and quotations, which follows with addEventListener to import the action that the user would do.\n",
    "- This sets up a base to generate a table and allows events such as GameEnv, GameLevel, and GameControl to be imported inside of that table and be linked in the same drive."
   ]
  }
 ],
 "metadata": {
  "language_info": {
   "name": "python"
  },
  "orig_nbformat": 4
 },
 "nbformat": 4,
 "nbformat_minor": 2
}
