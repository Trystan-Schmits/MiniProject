{
 "cells": [
  {
   "cell_type": "markdown",
   "metadata": {},
   "source": [
    "---\n",
    "title: Pair Showcase\n",
    "comments: true\n",
    "layout: default\n",
    "description: The last week of Sprint 1 is time to show accomplishments to teacher in a live review meeting.\n",
    "categories: []\n",
    "courses: { csse: {week: 3}, csp: {week: 3}, csa: {week: 3} }\n",
    "type: collab\n",
    "---"
   ]
  },
  {
   "cell_type": "markdown",
   "metadata": {},
   "source": [
    "## Showcase Overview\n",
    "This will be a Live Review!  A Live Review is where Students present to Teacher.   The Students share accomplishments from the Sprint with the Teacher.  The review will highlight elements from the sprint.\n",
    "\n",
    "Work is performed daily in class, expectations are 2 hours of outside work weekly.  A Showcase for a Sprint is where you, and in this case your pair, have progressed working on Canvas Assignments and Hacks in the time provided until you scheduled Showcase.  Everything is iterative, so there is no such thing as extended time in a Sprint Showcase.  Everyday you should be working and blogging to prepare for the Showcase. "
   ]
  },
  {
   "cell_type": "markdown",
   "metadata": {},
   "source": [
    "## Showcase Requirements\n",
    "This is a culmination of all activities in a Sprint.  During the Sprint there is always time to preview or communcate progress with the teacher; if you have  shared progress during the sprint, be sure to highlight success to jog Teachers memory.  Never, never expect the Teacher to remember something you did.  The Showcase is time for you to shine and impress.\n",
    "\n",
    "- Format of Showcase.   This is a pair event.  This Sprint is focused on Pair Programming and Work, not Team.   In a class, live reviews for this Showcase will be done in pairs or trios (rare, 3 or less per class) for this event.\n",
    "    - Make sure work is polished and reviewed.  Part of working with a pair is preparation, review, and testing prior to presenting to Teacher.  In the Tech world, quality presentation of Tech are as important as the Tech itself.  Never share work that has not be previewed or share buggy work in a Showcase.  This lacks professionalism.\n",
    "    - Google or Microsoft Docs, Sheets, Presentations are frowned upon and will result in significant deduction.  It is expected that you will be <b>showing materials from your personal Student blog</b>.  The Teacher believes using a blog is helping with your ability to design, organize, and code.\n",
    "    - Pair work can be shared, but both people should be able to talk about anything they expect to be counted toward their personal credit.  If you did not participate or carry your load on a topic, be honest, don't fake accomplishments.  Attempts to get credit by coat tailing is frowned upon.  \n",
    "- Preparation and Time.  The Showcase requires preparation.  At this event, it would be a mistake to ask \"what do you want to see\".  There are many sources that have been provided to answer that question.\n",
    "    - Sprint Illustration.  Consider the outline for the sprint a a guideline of key elements expected to be in the Showcase.\n",
    "    - Spring Blogs.   The hacks within the blogs contain the majority of the requirements that should be incorporated into the materials you present in the Showcase.\n"
   ]
  },
  {
   "cell_type": "markdown",
   "metadata": {},
   "source": [
    "## Ongoing Evaluations\n",
    "There are many ways to perform assesments in classroom.  Grade is not the only assessment that is on a report card.  A Student, on a daily basis, establishes work behaviors and capabilities with a Teacher,  An employee, on a daily basis, establishes work behaviors with peers and manager.  We will be establishing a Data Science profile 1/0 for each student as we progress in the class, this profile will be maintained by Teacher and will be used in evaluating grade.\n",
    "\n",
    "\n",
    "- Focus, Intentions\n",
    " \n",
    "    - Attendance:  Does the student have a computer every day, were they overly tardy, or did they have any irregularities in presence; like being gone for 1/2 hour bathroom breaks, missing intro sessions to class, ...\n",
    "\n",
    "    - Work Habits: Does the student have a class time work ethic or in Teacher perception appears to be productive; do they have collaboration meetings with pair and team? do they do their own work in class time?  do the follow a plan? are the open to change?  are the improving habits?  are their work habits a positive to those around them?...\n",
    "\n",
    "    - Behavior:  Does the student require redirection from Teacher to be on task? are they active and appropriately participating in Tech Talks?  are they maintaining seed points? are they focussing on the right things? do they have grit and persistence? ...\n",
    "\n",
    "    - Timely:  Is the student ready to participate in live reviews? are they aware of assignments and due dates? is their work outcome in alignment with assignment expectation? are they on track with work and showing progress? is progress consistent with time period, expectations, and Teacher assessed capabilities? ....\n",
    "\n",
    "\n",
    "- Technical Progression\n",
    "\n",
    "    - Qualified, satisfies pre-requisites: Teacher assessment on if the Student was qualified to take class. For instance, some CSA students skip CSP and have had no previous background in CompSci.  Another case, is the student a \"good student\"; someone that completes tasks and accomplishes goals;  someone that is prepared to work in class and do homework?  Finally, is the student able to identify their needs and learning style requirements; do they participate; do they ask questions; will they review visuals; talk about problems?  ... \n",
    "\n",
    "    - Tech sense: Teacher assesment on the \"technical sense or sensibility\" when entering the class and throughout the year.  For instance, in the beginning is student able to navigate their own computer, locate files, install software?   Or as they progress through year are they able to use their tools, perform tool updates, keep things working, troubleshoot?  Are they able to navigate through technical elements?  Over time, will they adapt and try to improve efficiency? ...\n",
    "\n",
    "    - Clarity/Presentation:  Does the student show the ability to explain what they have been working on?  Are the able to describe technical elements with correct vocabulary?  Are they able to understand technological jargon, understand the technical frameworks in order to explain it to others?  Are they confident and prepared?  ...\n",
    "\n",
    "    - Tech growth: Teacher assesment on \"technical rating\" as student progresses in class or prepares to take the AP exam.  Did the student acquire technical abilities in each Sprint prior to AP exam?  Does the student learn the Tech, or do they simply try for the points? Is the student building on skills learned as foundations for the next task?   At the time of the AP exam time, did the Teacher believe that they would undoubtedly receive a \"3\" or higher?\n",
    "\n",
    "\n",
    "- Soft Skills, Presentation\n",
    "\n",
    "    - Self advocacy: Teacher assesment and perception on how the student self advocates.  Does the student effectively communicate, convey, negotiate or assert interests, desires, needs?  Does the student seek out help when needed?  Does the student ask questions on Slack, in person, of team members?  Does the student attend Tutorial?  Is the student aware and informed of assignments?   Does student make informed decisions and take responsibility for their own decisions?\n",
    "\n",
    "    - Comm and Collab skills: Teacher assesment and perception on whether the student is a collaborator and communicator in classroom.  Does the Teacher see the student exhibiting collaboritive behaviors?  Does student explain and review work with others? Do they work consistently plan work with others?   Are communication and collaboration willing and active attributes in the students behavior?  Does the Teacher observe the student as active in communication during live reviews?\n",
    "\n",
    "    - Leadership: Teacher assesment or observation on leadership qualities of the student.   Did the Teacher observe the student as having key leadership and organization skills?  Did the Teacher see time management skills exhibited by the student, including schedule, finding the in-between time for things that are not part of the norm?   Did the student exhibit networking, critical thiking, and proactivity?  Did the Teacher ask the student to take on a leadership position in the classroom?  Did the student follow through with that responsibiility?  Would the Teacher ask the student to perform a task important to the entire classroom?\n",
    "\n",
    "    - Integrity:  Teacher assesment on how the student represents their own work and behavior. Does the student have a general sense of self-awareness, group-awareness, and how actions impact others?  Does the student and student group respect and follow the rules established in the classroom and by the Teacher?  Without question, did the student do their own work on each assignment through the year?  In live reviews, did the Teacher think the student was misrepresenting work as their own?  Was there questionable behavior that was not atoned, for instance being a suspect or caught in cheating scandal?  "
   ]
  }
 ],
 "metadata": {
  "language_info": {
   "name": "python"
  },
  "orig_nbformat": 4
 },
 "nbformat": 4,
 "nbformat_minor": 2
}
