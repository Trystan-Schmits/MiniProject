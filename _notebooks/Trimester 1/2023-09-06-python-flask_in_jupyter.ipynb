{
 "cells": [
  {
   "attachments": {},
   "cell_type": "markdown",
   "metadata": {},
   "source": [
    "---\n",
    "toc: true\n",
    "comments: false\n",
    "layout: post\n",
    "title: Python/Flask in Jupyter\n",
    "description: Quick launch into Flask, Functions, List, API, and HTML.\n",
    "courses: { csp: {week: 5, categories: [1.A, 3.B]} }\n",
    "categories: [C4.0]\n",
    "type: devops\n",
    "---"
   ]
  },
  {
   "cell_type": "markdown",
   "metadata": {},
   "source": [
    "## Introduction\n",
    "\n",
    "Welcome to this journey into the world of web servers and the Flask framework! In the previous weeks, you've successfully set up a web server using GitHub Pages, converting Jupyter Notebooks into Markdown for a seamless online presentation. Today, we'll take that knowledge to the next level as we dive into creating your very own web server using Flask.\n",
    "\n",
    "### Understanding Web Servers\n",
    "What is a Web Server?\n",
    "\n",
    "Traditionally, we had librarians at libraries that would help you find books or information. Today in the digital world, thousands upon thousands of home pages, search engines, and digital archives have been built using web servers.\n",
    "\n",
    "### GitHub Pages vs. Flask\n",
    "\n",
    "You've already experienced a form of web server through GitHub Pages. Think of GitHub Pages as a library that has established rules for publishing Markdown notes and Jupyter Notebooks neatly on a bookshelf.\n",
    "\n",
    "Now, let's introduce Flask, your personal web server. Flask can create and manage any type of content, including customizing everything according to your preferences, and even serve additional information (like a database with APIs).\n",
    "\n",
    "The Flask Framework\n",
    "Flask is a micro web framework written in Python. It's designed to be minimal and easy to use, making it perfect for building web applications, APIs, and, yes, even your web server. Today, we will start with the basics of Flask and see how it empowers you to create and manage web content."
   ]
  },
  {
   "attachments": {},
   "cell_type": "markdown",
   "metadata": {},
   "source": [
    "##  Our Goals for Today\n",
    "Here's what we'll accomplish in this session:\n",
    "\n",
    "- Create a minimal Flask server.\n",
    "- Explore the Python/Flask process.\n",
    "- Access data from our Flask server using Python.\n",
    "- Access data from our Flask server using JavaScript.\n",
    "- Learn how to stop the Python/Flask process gracefully.\n",
    "\n",
    "Note: Jupyter magic commmand `%%python --bg` that follows runs the server in background.  This enables us to continue interacting with the subsequent Notebook cells."
   ]
  },
  {
   "cell_type": "code",
   "execution_count": null,
   "metadata": {},
   "outputs": [],
   "source": [
    "%%python --bg\n",
    "\n",
    "from flask import Flask, jsonify\n",
    "from flask_cors import CORS\n",
    "\n",
    "# initialize a flask application (app)\n",
    "app = Flask(__name__)\n",
    "CORS(app, supports_credentials=True, origins='*')  # Allow all origins (*)\n",
    "\n",
    "# ... your existing Flask\n",
    "\n",
    "# add an api endpoint to flask app\n",
    "@app.route('/api/data')\n",
    "def get_data():\n",
    "    # start a list, to be used like a information database\n",
    "    InfoDb = []\n",
    "\n",
    "    # add a row to list, an Info record\n",
    "    InfoDb.append({\n",
    "        \"FirstName\": \"John\",\n",
    "        \"LastName\": \"Mortensen\",\n",
    "        \"DOB\": \"October 21\",\n",
    "        \"Residence\": \"San Diego\",\n",
    "        \"Email\": \"jmortensen@powayusd.com\",\n",
    "        \"Owns_Cars\": [\"2015-Fusion\", \"2011-Ranger\", \"2003-Excursion\", \"1997-F350\", \"1969-Cadillac\"]\n",
    "    })\n",
    "\n",
    "    # add a row to list, an Info record\n",
    "    InfoDb.append({\n",
    "        \"FirstName\": \"Shane\",\n",
    "        \"LastName\": \"Lopez\",\n",
    "        \"DOB\": \"February 27\",\n",
    "        \"Residence\": \"San Diego\",\n",
    "        \"Email\": \"slopez@powayusd.com\",\n",
    "        \"Owns_Cars\": [\"2021-Insight\"]\n",
    "    })\n",
    "    \n",
    "    return jsonify(InfoDb)\n",
    "\n",
    "# add an HTML endpoint to flask app\n",
    "@app.route('/')\n",
    "def say_hello():\n",
    "    html_content = \"\"\"\n",
    "    <html>\n",
    "    <head>\n",
    "        <title>Hellox</title>\n",
    "    </head>\n",
    "    <body>\n",
    "        <h2>Hello, World!</h2>\n",
    "    </body>\n",
    "    </html>\n",
    "    \"\"\"\n",
    "    return html_content\n",
    "\n",
    "if __name__ == '__main__':\n",
    "    # starts flask server on default port, http://127.0.0.1:5001\n",
    "    app.run(port=5001)\n"
   ]
  },
  {
   "cell_type": "markdown",
   "metadata": {},
   "source": [
    "### Show Python/Flask process\n",
    "This script discovers the running flask process"
   ]
  },
  {
   "cell_type": "code",
   "execution_count": 7,
   "metadata": {
    "vscode": {
     "languageId": "bat"
    }
   },
   "outputs": [],
   "source": [
    "%%script bash\n",
    "\n",
    "# After app.run(), see the the Python process\n",
    "lsof -i :5001\n",
    "# see the the Python app\n",
    "lsof -i :5001 | awk '/Python/ {print $2}' | xargs ps\n",
    "\n"
   ]
  },
  {
   "cell_type": "markdown",
   "metadata": {},
   "source": [
    "### Access API with Python\n",
    "This script extracts data from Web Server."
   ]
  },
  {
   "cell_type": "code",
   "execution_count": null,
   "metadata": {},
   "outputs": [],
   "source": [
    "import requests\n",
    "res = requests.get('http://127.0.0.1:5001/api/data')\n",
    "res.json()"
   ]
  },
  {
   "cell_type": "markdown",
   "metadata": {
    "vscode": {
     "languageId": "html"
    }
   },
   "source": [
    "### Access API with JavaScript\n",
    "This code extracts data \"live\" from a local Web Server with JavaScript fetch.  Additionally, it formats the data into a table.\n",
    "\n",
    "<!-- Head contains information to Support the Document -->\n",
    "\n",
    "\n",
    "<!-- HTML table fragment for page -->\n",
    "<table id=\"demo\" class=\"table\">\n",
    "  <thead>\n",
    "      <tr>\n",
    "          <th>First Name</th>\n",
    "          <th>Last Name</th>\n",
    "          <th>Residence</th>\n",
    "      </tr>\n",
    "  </thead>\n",
    "  <tbody id=\"result\">\n",
    "    <!-- javascript generated data -->\n",
    "  </tbody>\n",
    "</table>\n",
    "\n",
    "<script>\n",
    "  // prepare HTML result container for new output\n",
    "  const resultContainer = document.getElementById(\"result\");\n",
    "  \n",
    "  // prepare URL\n",
    "  url = \"http://127.0.0.1:5001/api/data\";\n",
    "\n",
    "  // set options for cross origin header request\n",
    "  const options = {\n",
    "    method: 'GET', // *GET, POST, PUT, DELETE, etc.\n",
    "    mode: 'cors', // no-cors, *cors, same-origin\n",
    "    cache: 'default', // *default, no-cache, reload, force-cache, only-if-cached\n",
    "    credentials: 'include', // include, *same-origin, omit\n",
    "    headers: {\n",
    "      'Content-Type': 'application/json',\n",
    "    },\n",
    "  };\n",
    "\n",
    "  // fetch the API\n",
    "  fetch(url, options)\n",
    "    // response is a RESTful \"promise\" on any successful fetch\n",
    "    .then(response => {\n",
    "      // check for response errors and display\n",
    "      if (response.status !== 200) {\n",
    "          console.error(response.status);\n",
    "          return;\n",
    "      }\n",
    "      // valid response will contain json data\n",
    "      response.json().then(data => {\n",
    "          console.log(data);\n",
    "          for (const row of data) {\n",
    "            // tr and td build out for each row\n",
    "            const tr = document.createElement(\"tr\");\n",
    "            const firstname = document.createElement(\"td\");\n",
    "            const lastname = document.createElement(\"td\");\n",
    "            const residence = document.createElement(\"td\");\n",
    "            // data is specific to the API\n",
    "            firstname.innerHTML = row.FirstName; \n",
    "            lastname.innerHTML = row.LastName; \n",
    "            residence.innerHTML = row.Residence; \n",
    "            // this builds each td into tr\n",
    "            tr.appendChild(firstname);\n",
    "            tr.appendChild(lastname);\n",
    "            tr.appendChild(residence);\n",
    "            // add HTML to container\n",
    "            resultContainer.appendChild(tr);\n",
    "          }\n",
    "      })\n",
    "  })\n",
    "  \n",
    "</script>\n"
   ]
  },
  {
   "cell_type": "markdown",
   "metadata": {},
   "source": [
    "### Kill Python/Flask process\n",
    "This script ends Python/Flask process"
   ]
  },
  {
   "cell_type": "code",
   "execution_count": 6,
   "metadata": {
    "vscode": {
     "languageId": "bat"
    }
   },
   "outputs": [],
   "source": [
    "%%script bash\n",
    "\n",
    "lsof -i :5001 | awk '/Python/ {print $2}' | xargs kill -9\n"
   ]
  },
  {
   "cell_type": "markdown",
   "metadata": {},
   "source": [
    "## Hacks\n",
    "Edit, stop and start the web server.\n",
    "- Add to the Home Page\n",
    "- Add your own information to the Web API\n",
    "- Use from Template to start your own Team Flask project https://github.com/nighthawkcoders/flask_portfolio"
   ]
  }
 ],
 "metadata": {
  "kernelspec": {
   "display_name": "Python 3",
   "language": "python",
   "name": "python3"
  },
  "language_info": {
   "codemirror_mode": {
    "name": "ipython",
    "version": 3
   },
   "file_extension": ".py",
   "mimetype": "text/x-python",
   "name": "python",
   "nbconvert_exporter": "python",
   "pygments_lexer": "ipython3",
   "version": "3.11.4"
  },
  "orig_nbformat": 4
 },
 "nbformat": 4,
 "nbformat_minor": 2
}
