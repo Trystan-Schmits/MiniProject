{
 "cells": [
  {
   "cell_type": "markdown",
   "metadata": {},
   "source": [
    "---\n",
    "comments: true\n",
    "layout: post\n",
    "title: CB 3.1,3.2 Data Abstraction\n",
    "description: Student Lesson\n",
    "courses: { csp: {week: 7} }\n",
    "type: ccc\n",
    "---"
   ]
  },
  {
   "cell_type": "markdown",
   "metadata": {},
   "source": [
    "## Variables names are abstractions in Code to hold values of data\n",
    "Build a lesson in Python to show the usage of variables and common data types.  We are looking for something fun and creative.\n",
    "- Review key college board materials\n",
    "- Discuss naming conventions for variables\n",
    "- Discuss the difference of a primitive data types versus collection type\n",
    "- Use examples with Lists and Dictionaries as collections of all data types\n",
    "- Show output concatenation and formatting\n",
    "- Show conversions of data types, specifically from and to JSON\n",
    "- Provide and overview of Python Data Types with College Board Pseudo Code\n",
    "- Provide Popcorn Hacks and Homework Hacks"
   ]
  }
 ],
 "metadata": {
  "language_info": {
   "name": "python"
  },
  "orig_nbformat": 4
 },
 "nbformat": 4,
 "nbformat_minor": 2
}
