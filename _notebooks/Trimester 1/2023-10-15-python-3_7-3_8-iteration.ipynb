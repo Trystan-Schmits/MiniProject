{
 "cells": [
  {
   "cell_type": "markdown",
   "metadata": {},
   "source": [
    "---\n",
    "comments: true\n",
    "layout: post\n",
    "title: CB 3.7,3.8 Iteration\n",
    "description: Student Lesson\n",
    "courses: { csp: {week: 8} }\n",
    "type: ccc\n",
    "---"
   ]
  },
  {
   "cell_type": "markdown",
   "metadata": {},
   "source": [
    "## Iteration\n",
    "Build a lesson in Python to shows various way you can create a loop in Python.  Try to be creative, Reference [Geeks](https://www.geeksforgeeks.org/loops-in-python/.  Try to be creative and make this interesting.\n",
    "- Review key college board materials\n",
    "- Provide and overview of a Python Loop and expression versus College Board Pseudo Code\n",
    "- Cover loops with List and with Dictionary\n",
    "- Cover loops using an index variable, versus \"the usual way\"\n",
    "- Create a for loop with nested ifs inside of a loop\n",
    "- Create a for loop with Try / Except\n",
    "- Create a for loop using Continue and Break\n",
    "- Create iteration using recursion\n",
    "- Provide Popcorn Hacks and Homework Hacks"
   ]
  }
 ],
 "metadata": {
  "language_info": {
   "name": "python"
  },
  "orig_nbformat": 4
 },
 "nbformat": 4,
 "nbformat_minor": 2
}
