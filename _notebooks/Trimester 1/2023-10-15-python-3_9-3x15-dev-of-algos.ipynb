{
 "cells": [
  {
   "cell_type": "markdown",
   "metadata": {},
   "source": [
    "---\n",
    "comments: true\n",
    "layout: post\n",
    "title: CB 3.9. 3.15 Developing Algoritms\n",
    "description: Student Lesson\n",
    "courses: { csp: {week: 9} }\n",
    "type: ccc\n",
    "---"
   ]
  },
  {
   "cell_type": "markdown",
   "metadata": {},
   "source": [
    "## Developing Algorithms\n",
    "Algorithms can be written in many different ways.  Use some of ideas below or come up with creative and insteresting ideas.\n",
    "- Review key college board materials\n",
    "- Provide algoritms to solve basic stats problems of mean, median, and mode.\n",
    "- Write the algoritms so code is different, but provides the same answer. Use sorting a list using Bubble Sort as an example.\n",
    "- Write algorithm or game using Random Numbers.\n",
    "- Provide Hack or Challenge to write Selection Sort and Insertion Sort.\n",
    "- Provide Popcorn Hacks and Homework Hacks"
   ]
  }
 ],
 "metadata": {
  "language_info": {
   "name": "python"
  },
  "orig_nbformat": 4
 },
 "nbformat": 4,
 "nbformat_minor": 2
}
