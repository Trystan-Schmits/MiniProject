{
 "cells": [
  {
   "cell_type": "markdown",
   "metadata": {},
   "source": [
    "---\n",
    "comments: true\n",
    "layout: post\n",
    "title: CB 3.10.3.11 Lists and Search\n",
    "description: Student Lesson\n",
    "courses: { csp: {week: 9} }\n",
    "type: ccc\n",
    "---"
   ]
  },
  {
   "cell_type": "markdown",
   "metadata": {},
   "source": [
    "## Lists and Search\n",
    "Binary search algorithm can be used on Lists to find elements in faster time.\n",
    "- Review key college board materials\n",
    "- Provide algoritms binary search algorithm.\n",
    "- Talk about Linear and Binary in regards to Big O notation.  \n",
    "- Compare List operations in Python with List operations in College Board Pseudo code.\n",
    "- Provide Popcorn Hacks and Homework Hacks"
   ]
  }
 ],
 "metadata": {
  "language_info": {
   "name": "python"
  },
  "orig_nbformat": 4
 },
 "nbformat": 4,
 "nbformat_minor": 2
}
