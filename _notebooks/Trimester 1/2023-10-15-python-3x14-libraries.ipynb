{
 "cells": [
  {
   "cell_type": "markdown",
   "metadata": {},
   "source": [
    "---\n",
    "comments: true\n",
    "layout: post\n",
    "title: CB 3.14 Libraries\n",
    "description: Student Lesson\n",
    "courses: { csp: {week: 10} }\n",
    "type: ccc\n",
    "---"
   ]
  },
  {
   "cell_type": "markdown",
   "metadata": {},
   "source": [
    "## Using Libraries\n",
    "Introduce popular libraries: Requests, Pillow, Pandas, Numpy, Scikit-Learn, TensorFlow, matplotlib\n",
    "- Describe what these libraries simplify.\n",
    "- Describe in Python how to include and use these libraries\n",
    "- Provide a basic example for each.  Teacher has code for most of them or we can refer to other lessons."
   ]
  }
 ],
 "metadata": {
  "language_info": {
   "name": "python"
  },
  "orig_nbformat": 4
 },
 "nbformat": 4,
 "nbformat_minor": 2
}
