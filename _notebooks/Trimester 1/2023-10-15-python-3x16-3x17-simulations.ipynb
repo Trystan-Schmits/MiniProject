{
 "cells": [
  {
   "cell_type": "markdown",
   "metadata": {},
   "source": [
    "---\n",
    "comments: true\n",
    "layout: post\n",
    "title: CB 3.16-3.17 Simulations\n",
    "description: Student Lesson\n",
    "courses: { csp: {week: 11} }\n",
    "type: ccc\n",
    "---"
   ]
  },
  {
   "cell_type": "markdown",
   "metadata": {},
   "source": [
    "## Simulations and Algorithms\n",
    "Introduce concepts of Simulations.  Try to tie Algoritms to Simulations to make the two sections more interesting.\n",
    "- Describe a game or animation, how they simulates movement and actions.\n",
    "- Describe a game like flight simulator, how it simulates a real life activity.\n",
    "- Provide an example of a simulation algorithm.\n",
    "- Talk about key college board topcis."
   ]
  }
 ],
 "metadata": {
  "language_info": {
   "name": "python"
  },
  "orig_nbformat": 4
 },
 "nbformat": 4,
 "nbformat_minor": 2
}
