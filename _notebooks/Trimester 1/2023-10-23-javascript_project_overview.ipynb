{
 "cells": [
  {
   "attachments": {},
   "cell_type": "markdown",
   "metadata": {},
   "source": [
    "---\n",
    "title: Project Documentation - Alien World\n",
    "description: The enirety of your frontend repository can capture the history of your project.\n",
    "courses: { csse: {week: 10}, csp: {week: 10}, csa: {week: 10} }\n",
    "type: collab\n",
    "---"
   ]
  },
  {
   "cell_type": "markdown",
   "metadata": {},
   "source": [
    "## Introduction\n",
    "There are many key parts to managing and finishing a project.\n",
    "\n",
    "1. [README.md](https://github.com/jm1021/alienWorld#readme).   This contains information to help someone get started with the project.   The alienWorld repository was built from NightHawk pages, so much of the README already contained many development guidelines.\n",
    "\n",
    "2. [Project Plan](https://jm1021.github.io/alienWorld/c4.1/2023/10/05/Plan_IPYNB_2_.html).  This contains a project plan and guide.   This contains plan for the project and overviews the key elements of code. \n",
    "\n",
    "3. [Issue Management](https://github.com/jm1021/alienWorld/issues).  Issues help drive the work of the project.  Open issues are assigned to individuals.  Closed issues contain history of work that has been completed.\n",
    "\n",
    "4. [GitHub Pages Blog](https://jm1021.github.io/alienWorld/blogs/).  A big advantage of GitHub Pages as a frontend is that allows for classic frontend runtime and blogging to be contained in one place.  In education, a huge part of our project is how it was made, and how we collaborated, and how we progressed through steps.\n",
    "\n",
    "5. [GitHub Pages History/Time Box](https://jm1021.github.io/alienWorld/compsci/).  Managing meetings and capturing history tell a big story for a team.  Time Boxing history is a great way to share key elements of project.\n",
    "\n",
    "6. [Anatomy of Alien World](https://jm1021.github.io/alienWorld/c4.1/2023/10/05/Plan_IPYNB_2_.html#anatomy-of-alien-world).  This contains key thinking that went into designing code.  This was build in same document as Project Plan.\n",
    "\n",
    "7. Code Comments.  Almost everyone, including Teachers, do not remeber how code works withou comments.  Be sure to comment key code block and algorithms."
   ]
  },
  {
   "cell_type": "markdown",
   "metadata": {},
   "source": []
  }
 ],
 "metadata": {
  "kernelspec": {
   "display_name": "base",
   "language": "python",
   "name": "python3"
  },
  "language_info": {
   "codemirror_mode": {
    "name": "ipython",
    "version": 3
   },
   "file_extension": ".py",
   "mimetype": "text/x-python",
   "name": "python",
   "nbconvert_exporter": "python",
   "pygments_lexer": "ipython3",
   "version": "3.9.12"
  },
  "orig_nbformat": 4
 },
 "nbformat": 4,
 "nbformat_minor": 2
}
