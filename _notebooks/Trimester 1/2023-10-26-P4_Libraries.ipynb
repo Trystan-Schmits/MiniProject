{
 "cells": [
  {
   "cell_type": "markdown",
   "metadata": {},
   "source": [
    "---\n",
    "toc: true\n",
    "comments: true\n",
    "layout: post\n",
    "title: P4 Libraries\n",
    "description: Lesson for using libraries in Python\n",
    "type: collab\n",
    "author: Lindsay, Matthew, Josh, Ethan\n",
    "courses: { csp: {week: 10} }\n",
    "unit: 3\n",
    "---"
   ]
  },
  {
   "cell_type": "markdown",
   "metadata": {},
   "source": [
    "## 3.12-3.13 Developing Procedures\n",
    "*before we do this lesson, you will want to open a terminal on your desktop and pip install Requests, Pillow, Pandas, NumPy, Scikit-Learn, Tensorflow, and matplotlib. "
   ]
  },
  {
   "cell_type": "markdown",
   "metadata": {},
   "source": [
    "<strong><font size = 26>Learning Objectives:</font></strong><br><br>\n",
    "- Select approproate libraries or existing code segments to use in creating new programs"
   ]
  },
  {
   "cell_type": "markdown",
   "metadata": {},
   "source": [
    "<strong><font size = 26>What are Libraries?</font></strong><br><br>\n",
    "In Python, a library is a collection of pre-written code, functions, and modules that extend the language's capabilities. These libraries are designed to be reused by developers to perform common tasks, rather than having to write the code from scratch. Libraries are essential for simplifying and accelerating the development process, as they provide a wide range of tools and functions for various purposes.\n",
    "\n",
    "Here are some key points about Python libraries:\n",
    "\n",
    "1. Modules: Libraries in Python consist of modules, which are individual Python files containing functions, classes, and variables related to a specific set of tasks or a particular domain. You can import these modules into your own Python code to access their functionality.\n",
    "\n",
    "2. Standard Library: Python comes with a comprehensive standard library that includes modules for various tasks, such as working with files, networking, data processing, and more. These modules are readily available and do not require installation.\n",
    "\n",
    "3. Third-party Libraries: In addition to the standard library, there is a vast ecosystem of third-party libraries created by the Python community. These libraries cover a wide range of domains, including web development, data analysis, machine learning, game development, and more. Some popular third-party libraries include NumPy, Pandas, Matplotlib, TensorFlow, Django, Flask, and many others."
   ]
  },
  {
   "cell_type": "markdown",
   "metadata": {},
   "source": [
    "<strong><font size = 26>How Do We Get Libraries into Our Code and Working?</strong></font><br><br>\n",
    "To get libraries into our code, we use the import statement followed by the library we want to import. <br>Lets start simply:"
   ]
  },
  {
   "cell_type": "markdown",
   "metadata": {},
   "source": [
    "> "
   ]
  },
  {
   "cell_type": "code",
   "execution_count": null,
   "metadata": {},
   "outputs": [],
   "source": [
    "#In this code cell, we are importing the math library which allows us to do math operations,\n",
    "#and the random library which lets us take pseudorandom numbers and choices.\n",
    "import math\n",
    "import random\n",
    "#We use the libraries by first calling them by their name, then using one of their methods.\n",
    "#For example:\n",
    "num = 64\n",
    "print(math.sqrt(num))\n",
    "numList = [1,2,3,4,5,6]\n",
    "print(random.choice(numList))\n",
    "#Here, 'math' and 'random' are the names of the libraries, and 'sqrt' and 'choice' are the names of the methods."
   ]
  },
  {
   "cell_type": "markdown",
   "metadata": {},
   "source": [
    "<font size = 5>We can also import parts of libraries by adding a \"from\" in front of our import.</font><br>\n"
   ]
  },
  {
   "cell_type": "code",
   "execution_count": null,
   "metadata": {},
   "outputs": [],
   "source": [
    "from math import sqrt\n",
    "from random import *\n",
    "num = 64\n",
    "print(sqrt(num))\n",
    "numList = [1,2,3,4,5,6]\n",
    "print(choice(numList))"
   ]
  },
  {
   "cell_type": "markdown",
   "metadata": {},
   "source": [
    "<font size = 5>Now, we don't have to use math. in front of sqrt, and can just use the function by itself. We can also import *, or all, which makes it so that everything is imported. Here, we don't have to use random in front of choice, even though we didn't import choice specifically."
   ]
  },
  {
   "cell_type": "markdown",
   "metadata": {},
   "source": [
    "<strong><font size = 13>Popcorn Hack #1</font><br></strong><br><br>\n",
    "<font size = 6>Import your own library from a list of provided libraries, and use one of its methods. This can be something very bare bones, such as printing the time, getting a random number in a list, or doing something after sleeping a certain amount of time\n"
   ]
  },
  {
   "cell_type": "code",
   "execution_count": null,
   "metadata": {},
   "outputs": [],
   "source": [
    "#math library module examples: sqrt(num), square(num), cube(num), factorial(num)\n",
    "#random library module examples: choice(list), randrange(lowest, highest, step[numbers chosen in multiples of {step}])\n",
    "#datetime library module examples: datetime.now()\n",
    "#sleep library module examples: sleep(milliseconds)"
   ]
  },
  {
   "cell_type": "markdown",
   "metadata": {},
   "source": [
    "<strong><font size = 26>Documentation</strong></font><br><br>\n",
    "Documentation in Python libraries refers to the written information and explanations provided to help users understand how to use the library, its classes, functions, and modules. It serves as a comprehensive guide that documents the library's functionality, usage, and often includes code examples. Documentation is typically created by the library developers and is an essential component of a well-maintained library.\n",
    "\n",
    "<br>\n",
    "\n",
    "Examples of Documentation: An introductory section explaining the purpose of the library, a section on how to install the library, basic usage examples, etc. "
   ]
  },
  {
   "cell_type": "code",
   "execution_count": null,
   "metadata": {},
   "outputs": [],
   "source": [
    "calcAverage(grades)\n",
    "\n",
    "'''\n",
    "You know the name of the procedure and the perameters, but...\n",
    "You probably wouldn't be able to use this procedure \n",
    "with confidence because you don't know its function \n",
    "exactly (maybe you can guess that it finds the average, \n",
    "but you wouldn't know if it uses mean, mode, or median to \n",
    "find the average). You would also need more information on the\n",
    "perameters.\n",
    "'''"
   ]
  },
  {
   "cell_type": "markdown",
   "metadata": {},
   "source": [
    "<strong><font size = 26>Libraries and APIs</strong></font><br><br>\n",
    "- A file that contains procedures that cane be used in a program is called a <strong>library</strong>\n",
    "- An <strong>Application Program Interface (API)</strong> provides specifications for how procedures in a library behave and can be used. \n",
    "\n",
    "APIs define the methods and functions that are available for developers to interact with a library. They specify how to make requests, provide inputs, and receive outputs, creating a clear and consistent way to use library features."
   ]
  },
  {
   "cell_type": "markdown",
   "metadata": {},
   "source": [
    "<strong><font size = 26>Which libraries will be very important to us?</font><br><br></strong>\n",
    "<ul>\n",
    "<li>Requests - Simplifies working with HTTP servers, including 'request'-ing data from them, and recieving it</li>\n",
    "<li>Pillow - Simplifies image processing</li>\n",
    "<li>Pandas - Simplifies data analysis & manipulation</li>\n",
    "<li>Numpy - Vastly quickens functionality of arrays up to 50 times faster than regular python list</li>\n",
    "<li>Scikit-Learn - Implements machine learning models and statistical modelling</li>\n",
    "<li>Tensorflow - Data automation, model tracking, performance monitoring, and model retraining</li>\n",
    "<li>Matplotlib - Creates static, animated, and interactive visualizations in Python</li>\n",
    "</ul>\n",
    "<h1> DON'T FORGET TO DOWNLOAD ALL OF THESE (pip install \"library\")</h1>"
   ]
  },
  {
   "cell_type": "markdown",
   "metadata": {},
   "source": [
    "<strong><font size = 13>Popcorn Hack #2</font><br></strong><br><br>\n",
    "<font size = 6>Using the requests library and the ? module (since we should already be using this in our backend) <strong>GET</strong> a request from the api at \"https://api.github.com\"\n"
   ]
  },
  {
   "cell_type": "code",
   "execution_count": null,
   "metadata": {},
   "outputs": [],
   "source": [
    "import requests\n",
    "#GET a request using the requests library. Remember to put your api link in quotes! If you get something along the lines of response [200] then you succeeded"
   ]
  },
  {
   "cell_type": "markdown",
   "metadata": {},
   "source": [
    "## Scikit-Learn and Numpy\n",
    "This code uses NumPy to create an array, and Scikit-Learn to analyze the data. It creates a linear regression which describes the relationship between the x and y arrays which reperesent independent and dependent variables. In simpler terms, it is creating a line of best fit between the two data sets, just like how you would in something like desmos."
   ]
  },
  {
   "cell_type": "markdown",
   "metadata": {},
   "source": [
    ">\n"
   ]
  },
  {
   "cell_type": "code",
   "execution_count": null,
   "metadata": {},
   "outputs": [],
   "source": [
    "import numpy as np\n",
    "import numpy as np\n",
    "from sklearn.linear_model import LinearRegression\n",
    "from sklearn.model_selection import train_test_split\n",
    "from sklearn.metrics import mean_squared_error\n",
    "\n",
    "# Generate some example data\n",
    "X = np.array([1, 2, 3, 4, 5]).reshape(-1, 1)  # Feature (independent variable)\n",
    "y = np.array([2, 4, 5, 4, 5])             # Target (dependent variable)\n",
    "\n",
    "# Split the data into training and testing sets\n",
    "X_train, X_test, y_train, y_test = train_test_split(X, y, test_size=0.2, random_state=42)\n",
    "\n",
    "# Create a Linear Regression model\n",
    "model = LinearRegression()\n",
    "\n",
    "# Fit the model to the training data\n",
    "model.fit(X_train, y_train)\n",
    "\n",
    "# Make predictions on the test data\n",
    "y_pred = model.predict(X_test)\n",
    "\n",
    "# Evaluate the model by calculating the Mean Squared Error  \n",
    "mse = mean_squared_error(y_test, y_pred)\n",
    "\n",
    "# Print the model coefficients and MSE, model coefficient is the slope of the linear regression line, MSE is how well the model is performing, the closer it is to 0 the better\n",
    "print(\"Model Coefficients:\", model.coef_)\n",
    "print(\"Mean Squared Error:\", mse)\n",
    "\n",
    "intercept = model.intercept_\n",
    "slope = model.coef_[0]\n",
    "print(f\"Linear Regression Equation: y = {intercept} + {slope} * X\")\n",
    "\n"
   ]
  },
  {
   "cell_type": "markdown",
   "metadata": {},
   "source": [
    "## Request\n",
    "- The requests module allows you to send HTTP requests using Python.\n",
    "- In order to download requests, you would have to type pip install requests in your terminal.\n",
    "\n",
    "## Syntax\n",
    "- requests.methodname(params)"
   ]
  },
  {
   "cell_type": "code",
   "execution_count": null,
   "metadata": {},
   "outputs": [],
   "source": [
    "import requests\n",
    "\n",
    "x = requests.get('http://127.0.0.1:9008/')\n",
    "\n",
    "print(x.text)\n",
    "#not functional code, example of syntax"
   ]
  },
  {
   "cell_type": "code",
   "execution_count": null,
   "metadata": {},
   "outputs": [],
   "source": [
    "import requests\n",
    "\n",
    "# Replace this URL with the website you want to request\n",
    "url = 'https://www.example.com'\n",
    "\n",
    "# Send a GET request to the URL\n",
    "response = requests.get(url)\n",
    "\n",
    "# Check if the request was successful (status code 200)\n",
    "if response.status_code == 200:\n",
    "    # Print the content of the response (the HTML content of the webpage)\n",
    "    print(response.text)\n",
    "else:\n",
    "    # If the request was not successful, print an error message\n",
    "    print(f\"Failed to retrieve the page. Status code: {response.status_code}\")\n"
   ]
  },
  {
   "cell_type": "markdown",
   "metadata": {},
   "source": [
    "## Pillow\n",
    "- Pillow is a imaging library that provides easy-to-use methods to include, change, save different image formats.\n",
    "- To dowload pillow onto your computer, you would enter the command pip install Pillow into your terminal.\n"
   ]
  },
  {
   "cell_type": "code",
   "execution_count": null,
   "metadata": {},
   "outputs": [],
   "source": [
    "from PIL import Image, ImageDraw, ImageFont\n",
    "\n",
    "# Create a new blank image\n",
    "width, height = 400, 200\n",
    "image = Image.new(\"RGB\", (width, height), \"white\")\n",
    "\n",
    "# Create an ImageDraw object\n",
    "draw = ImageDraw.Draw(image)\n",
    "\n",
    "# Draw a red line from (50, 50) to (350, 150)\n",
    "line_color = (255, 0, 0)  # Red color\n",
    "draw.line((50, 50, 350, 150), fill=line_color, width=3)\n",
    "\n",
    "# Add text to the image\n",
    "text = \"This was created using Pillow!\"\n",
    "text_color = (0, 0, 0)  # Black color\n",
    "font_size = 20\n",
    "font = ImageFont.load_default()  # Use a default font\n",
    "text_position = (50, 160) \n",
    "draw.text(text_position, text, fill=text_color, font=font)\n",
    "\n",
    "# Save or display the image\n",
    "image.show()\n",
    "image.show()\n",
    "#This opens the image in your default image viewer and when you stop the code, it will return an error, but don't worry about that\n"
   ]
  },
  {
   "cell_type": "code",
   "execution_count": 4,
   "metadata": {},
   "outputs": [
    {
     "ename": "FileNotFoundError",
     "evalue": "[Errno 2] No such file or directory: 'image.png'",
     "output_type": "error",
     "traceback": [
      "\u001b[1;31m---------------------------------------------------------------------------\u001b[0m",
      "\u001b[1;31mFileNotFoundError\u001b[0m                         Traceback (most recent call last)",
      "\u001b[1;32mc:\\Users\\matth\\librarylesson\\lessons\\2023-10-26-Libraries.ipynb Cell 26\u001b[0m line \u001b[0;36m4\n\u001b[0;32m      <a href='vscode-notebook-cell:/c%3A/Users/matth/librarylesson/lessons/2023-10-26-Libraries.ipynb#X44sZmlsZQ%3D%3D?line=0'>1</a>\u001b[0m \u001b[39mfrom\u001b[39;00m \u001b[39mPIL\u001b[39;00m \u001b[39mimport\u001b[39;00m Image\n\u001b[0;32m      <a href='vscode-notebook-cell:/c%3A/Users/matth/librarylesson/lessons/2023-10-26-Libraries.ipynb#X44sZmlsZQ%3D%3D?line=2'>3</a>\u001b[0m \u001b[39m# Open an image\u001b[39;00m\n\u001b[1;32m----> <a href='vscode-notebook-cell:/c%3A/Users/matth/librarylesson/lessons/2023-10-26-Libraries.ipynb#X44sZmlsZQ%3D%3D?line=3'>4</a>\u001b[0m original_image \u001b[39m=\u001b[39m Image\u001b[39m.\u001b[39;49mopen(\u001b[39m'\u001b[39;49m\u001b[39mimage.png\u001b[39;49m\u001b[39m'\u001b[39;49m)\n\u001b[0;32m      <a href='vscode-notebook-cell:/c%3A/Users/matth/librarylesson/lessons/2023-10-26-Libraries.ipynb#X44sZmlsZQ%3D%3D?line=5'>6</a>\u001b[0m \u001b[39m# Display information about the image\u001b[39;00m\n\u001b[0;32m      <a href='vscode-notebook-cell:/c%3A/Users/matth/librarylesson/lessons/2023-10-26-Libraries.ipynb#X44sZmlsZQ%3D%3D?line=6'>7</a>\u001b[0m width, height \u001b[39m=\u001b[39m original_image\u001b[39m.\u001b[39msize\n",
      "File \u001b[1;32mc:\\Users\\matth\\AppData\\Local\\Programs\\Python\\Python311\\Lib\\site-packages\\PIL\\Image.py:3243\u001b[0m, in \u001b[0;36mopen\u001b[1;34m(fp, mode, formats)\u001b[0m\n\u001b[0;32m   3240\u001b[0m     filename \u001b[39m=\u001b[39m fp\n\u001b[0;32m   3242\u001b[0m \u001b[39mif\u001b[39;00m filename:\n\u001b[1;32m-> 3243\u001b[0m     fp \u001b[39m=\u001b[39m builtins\u001b[39m.\u001b[39;49mopen(filename, \u001b[39m\"\u001b[39;49m\u001b[39mrb\u001b[39;49m\u001b[39m\"\u001b[39;49m)\n\u001b[0;32m   3244\u001b[0m     exclusive_fp \u001b[39m=\u001b[39m \u001b[39mTrue\u001b[39;00m\n\u001b[0;32m   3246\u001b[0m \u001b[39mtry\u001b[39;00m:\n",
      "\u001b[1;31mFileNotFoundError\u001b[0m: [Errno 2] No such file or directory: 'image.png'"
     ]
    }
   ],
   "source": [
    "from PIL import Image\n",
    "\n",
    "# Open an image\n",
    "original_image = Image.open('image.png') #replace image.png with valid image\n",
    "\n",
    "# Display information about the image\n",
    "width, height = original_image.size\n",
    "format = original_image.format\n",
    "print(f\"Original Image Size: {width}x{height}\")\n",
    "print(f\"Original Image Format: {format}\")\n",
    "\n",
    "# Resize the image to a new size\n",
    "new_size = (width // 2, height // 2)  # Reduce the size by half\n",
    "resized_image = original_image.resize(new_size)\n",
    "\n",
    "# Save the resized image\n",
    "resized_image.save('resized_image.jpg')\n",
    "\n",
    "# Display information about the resized image\n",
    "resized_width, resized_height = resized_image.size\n",
    "print(f\"Resized Image Size: {resized_width}x{resized_height}\")\n",
    "\n",
    "# Show both the original and resized images\n",
    "original_image.show()\n",
    "resized_image.show()\n"
   ]
  },
  {
   "cell_type": "markdown",
   "metadata": {},
   "source": [
    "## Pandas\n",
    "This code utilizes pandas in the DataFrame form to organize the data in to a table with the categories on the horizontal axis and their values on the vertical. Pandas creates a way for the user to organize data in a much simpler form and in different styles depending on what the user wants"
   ]
  },
  {
   "cell_type": "code",
   "execution_count": 5,
   "metadata": {},
   "outputs": [
    {
     "name": "stdout",
     "output_type": "stream",
     "text": [
      "      Name  Grade\n",
      "1  Matthew     97\n",
      "2  Lindsay     92\n",
      "3     Josh     90\n",
      "4    Ethan     80\n"
     ]
    }
   ],
   "source": [
    "#This code utilizes pandas which is a way for you as a user, to create data tables that are much more organized\n",
    "\n",
    "#imports pandas so it's able to be used\n",
    "import pandas as pd\n",
    "\n",
    "#data is created and will be sorted from left to right into top to bottom\n",
    "data = {'Name': ['Matthew', 'Lindsay', 'Josh', 'Ethan'],\n",
    "        'Grade': [97, 92, 90, 80]}\n",
    "\n",
    "#defines a variable and utilizes pandas by using a DataFrame for the data\n",
    "df = pd.DataFrame(data)\n",
    "#tbere are other forms other than DataFrame, those are Series (single Column), Panel (3D), Multindex (multiple levels of index), and Categorical (categories), \n",
    "#increase the side count by one\n",
    "df.index += 1\n",
    "\n",
    "print(df)\n"
   ]
  },
  {
   "cell_type": "markdown",
   "metadata": {},
   "source": [
    "Another example code, this time utilizing both numpy and pandas"
   ]
  },
  {
   "cell_type": "code",
   "execution_count": 9,
   "metadata": {},
   "outputs": [
    {
     "name": "stdout",
     "output_type": "stream",
     "text": [
      "  Grade  Mean Grade\n",
      "1     A        94.0\n",
      "2     B        86.0\n",
      "3     C        77.5\n"
     ]
    }
   ],
   "source": [
    "import pandas as pd\n",
    "import numpy as np\n",
    "\n",
    "# Sample data\n",
    "data = {\n",
    "    'Grade': ['A', 'B', 'A', 'C', 'B', 'C', 'A', 'B', 'A'],\n",
    "    'Percent': [94, 82, 91, 76, 89, 79, 92, 87, 99]\n",
    "}\n",
    "\n",
    "# Create a Pandas DataFrame\n",
    "df = pd.DataFrame(data)\n",
    "\n",
    "# Calculate the mean of each Grade using NumPy\n",
    "means = df.groupby('Grade')['Percent'].mean().reset_index()\n",
    "\n",
    "# Organize the results into a new data table\n",
    "result = pd.DataFrame({'Grade': ['A', 'B', 'C'], 'Mean Grade': means['Percent']})\n",
    "\n",
    "result.index += 1\n",
    "# Display the result\n",
    "print(result)\n"
   ]
  },
  {
   "cell_type": "markdown",
   "metadata": {},
   "source": [
    "## TensorFlow\n",
    "The provided code demonstrates a basic example of linear regression using TensorFlow and Keras. It begins by importing the necessary libraries, TensorFlow and NumPy. It then generates a synthetic dataset with 1000 samples, where the input features are random, and the target values are computed as a linear combination of the input features with added noise. A data pipeline is set up using TensorFlow, which includes shuffling and batching the data for efficient processing. A simple linear regression model is defined using Keras, consisting of one dense layer. The model is compiled with the Adam optimizer and mean squared error as the loss function. It is then trained on the synthetic data for ten epochs. After training, the model is used to make predictions on new data points, and the predictions are printed to the console. This code provides a basic illustration of how to perform a simple machine learning task with TensorFlow, from data generation to model training and prediction."
   ]
  },
  {
   "cell_type": "code",
   "execution_count": 1,
   "metadata": {},
   "outputs": [
    {
     "name": "stdout",
     "output_type": "stream",
     "text": [
      "Epoch 1/10\n",
      "32/32 [==============================] - 0s 2ms/step - loss: 3.8766\n",
      "Epoch 2/10\n",
      "32/32 [==============================] - 0s 2ms/step - loss: 3.6717\n",
      "Epoch 3/10\n",
      "32/32 [==============================] - 0s 2ms/step - loss: 3.4812\n",
      "Epoch 4/10\n",
      "32/32 [==============================] - 0s 2ms/step - loss: 3.3002\n",
      "Epoch 5/10\n",
      "32/32 [==============================] - 0s 2ms/step - loss: 3.1319\n",
      "Epoch 6/10\n",
      "32/32 [==============================] - 0s 1ms/step - loss: 2.9735\n",
      "Epoch 7/10\n",
      "32/32 [==============================] - 0s 2ms/step - loss: 2.8254\n",
      "Epoch 8/10\n",
      "32/32 [==============================] - 0s 2ms/step - loss: 2.6876\n",
      "Epoch 9/10\n",
      "32/32 [==============================] - 0s 2ms/step - loss: 2.5581\n",
      "Epoch 10/10\n",
      "32/32 [==============================] - 0s 2ms/step - loss: 2.4363\n",
      "1/1 [==============================] - 0s 85ms/step\n",
      "Predictions: [[1.6355244]\n",
      " [0.9337466]]\n"
     ]
    }
   ],
   "source": [
    "import tensorflow as tf\n",
    "import numpy as np\n",
    "\n",
    "# Create a synthetic dataset\n",
    "num_samples = 1000\n",
    "input_data = np.random.rand(num_samples, 2)\n",
    "target_data = input_data[:, 0] * 2 + input_data[:, 1] * 3 + np.random.randn(num_samples)\n",
    "\n",
    "# Define a data pipeline using TensorFlow\n",
    "dataset = tf.data.Dataset.from_tensor_slices((input_data, target_data))\n",
    "dataset = dataset.shuffle(buffer_size=num_samples)\n",
    "dataset = dataset.batch(32)\n",
    "dataset = dataset.prefetch(buffer_size=tf.data.AUTOTUNE)\n",
    "\n",
    "# Create a simple linear regression model using Keras\n",
    "model = tf.keras.Sequential([\n",
    "    tf.keras.layers.Dense(1, input_shape=(2,))\n",
    "])\n",
    "model.compile(optimizer='adam', loss='mean_squared_error')\n",
    "\n",
    "# Train the model on the synthetic data\n",
    "model.fit(dataset, epochs=10)\n",
    "\n",
    "# Generate predictions\n",
    "new_data = np.array([[0.5, 0.7], [0.3, 0.2]])\n",
    "predictions = model.predict(new_data)\n",
    "print(\"Predictions:\", predictions)\n"
   ]
  },
  {
   "cell_type": "markdown",
   "metadata": {},
   "source": [
    "## Matplotlib\n",
    "The provided Python code demonstrates the basic usage of Matplotlib, a popular library for creating data visualizations. In this example, we start by importing the Matplotlib's pyplot module, often aliased as plt. We define some sample data as lists for the X and Y values. Then, we create a figure and an axis object using plt.subplots(). Next, we plot the data points on the graph with ax.plot(x, y) and set a label for the line. We also add labels for the X and Y axes and set a title for the plot. To provide context for the plot, we include a legend with the label we set earlier. Finally, plt.show() is called to display the graph. When you run this code, it will generate a simple line plot displaying the data points with appropriate labels, a title, and a legend, making it a clear and informative visualization."
   ]
  },
  {
   "cell_type": "code",
   "execution_count": 11,
   "metadata": {},
   "outputs": [
    {
     "data": {
      "image/png": "[encoded data removed]",
      "text/plain": [
       "<Figure size 640x480 with 1 Axes>"
      ]
     },
     "metadata": {},
     "output_type": "display_data"
    }
   ],
   "source": [
    "import matplotlib.pyplot as plt\n",
    "\n",
    "# Sample data\n",
    "x = [1, 2, 3, 4, 5]\n",
    "y = [2, 4, 6, 8, 10]\n",
    "\n",
    "# Create a figure and axis\n",
    "fig, ax = plt.subplots()\n",
    "\n",
    "# Plot the data\n",
    "ax.plot(x, y, label='Linear Line')\n",
    "\n",
    "# Set labels and title\n",
    "ax.set_xlabel('X-axis')\n",
    "ax.set_ylabel('Y-axis')\n",
    "ax.set_title('Simple Line Plot')\n",
    "\n",
    "# Add a legend\n",
    "ax.legend()\n",
    "\n",
    "# Display the plot\n",
    "plt.show()\n"
   ]
  },
  {
   "cell_type": "markdown",
   "metadata": {},
   "source": [
    "<h1>Homework Hack</h1> \n",
    "1) Create a code that makes a data table which organizes the average values(mean) from a data set the has atleast 5 values per category and using 2 libraries, ex: <br></br>\n",
    "2) Create a Python script that downloads images from a website using the requests library, processes them with the Pillow library, and then performs data analysis with the Pandas library."
   ]
  },
  {
   "cell_type": "code",
   "execution_count": null,
   "metadata": {},
   "outputs": [],
   "source": [
    "#homework 1"
   ]
  },
  {
   "cell_type": "code",
   "execution_count": null,
   "metadata": {},
   "outputs": [],
   "source": [
    "#homework 2"
   ]
  }
 ],
 "metadata": {
  "kernelspec": {
   "display_name": "Python 3",
   "language": "python",
   "name": "python3"
  },
  "language_info": {
   "codemirror_mode": {
    "name": "ipython",
    "version": 3
   },
   "file_extension": ".py",
   "mimetype": "text/x-python",
   "name": "python",
   "nbconvert_exporter": "python",
   "pygments_lexer": "ipython3",
   "version": "3.11.1"
  }
 },
 "nbformat": 4,
 "nbformat_minor": 2
}
