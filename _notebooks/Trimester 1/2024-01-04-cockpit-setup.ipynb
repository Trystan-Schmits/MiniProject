{
 "cells": [
  {
   "attachments": {},
   "cell_type": "markdown",
   "metadata": {},
   "source": [
    "---\n",
    "layout: post\n",
    "toc: true\n",
    "title: Cockpit Setup\n",
    "description: A guide to setting up Cockpit\n",
    "author: Lily Wu\n",
    "courses: { csp: {week: 20, categories: [6.B]}, csa: {week: 20} }\n",
    "categories: [C7.0, C7.1, C7.2]\n",
    "type: devops\n",
    "---"
   ]
  },
  {
   "attachments": {},
   "cell_type": "markdown",
   "metadata": {},
   "source": [
    "## Setting up Cockpit\n",
    "\n",
    "### Overview\n",
    "\n",
    "Cockpit is a tool that provides a GUI interface on the web. It allows an administrator to manage applications and services running on the server. While Linux configurations are mostly done through a command line, Cockpit provides a helpful visualization for features such as CPU and memory utilization. Cockpit also provides a terminal on the web interface, making it helpful if you need to access the server remotely. "
   ]
  },
  {
   "attachments": {},
   "cell_type": "markdown",
   "metadata": {},
   "source": [
    "## Install Cockpit"
   ]
  },
  {
   "cell_type": "code",
   "execution_count": null,
   "metadata": {
    "vscode": {
     "languageId": "shellscript"
    }
   },
   "outputs": [],
   "source": [
    "sudo apt update\n",
    "sudo apt install cockpit"
   ]
  },
  {
   "attachments": {},
   "cell_type": "markdown",
   "metadata": {},
   "source": [
    "Start the Cockpit service"
   ]
  },
  {
   "cell_type": "code",
   "execution_count": null,
   "metadata": {
    "vscode": {
     "languageId": "shellscript"
    }
   },
   "outputs": [],
   "source": [
    "Start the Cockpit service"
   ]
  },
  {
   "attachments": {},
   "cell_type": "markdown",
   "metadata": {},
   "source": [
    "## Accessing\n",
    "\n",
    "Cockpit runs on port 9090. This port needs to be allowed on the EC2 instance. Click on \"Security Groups\" in the left sidebar: \n",
    "\n",
    "![]({{ site.baseurl }}/images/securityGroups.jpg)\n",
    "\n",
    "Next, search for your security group. Click the check box next to the group name, scroll down, and click on \"Inbound rules\". Click on \"Edit inbound rules\", and add a rule that allows \"Port range\" of 9090 and \"Source type\" of Anywhere-IPv4.\n",
    "\n",
    "![]({{ site.baseurl }}/images/editRules.jpg)\n",
    "\n",
    "<br>\n",
    "\n",
    "Access Cockpit with the link: `<EC2 IP address>:9090`. There are a variety of ways to find the IP address of the instance. One way is to locate the IP address under \"Public IPv4 address\" on the \"Instances\" page:\n",
    "\n",
    "![]({{ site.baseurl }}/images/ip.jpg)\n",
    "\n",
    "In this case, the IP address of the instance is 3.145.69.15. Accessing http://3.145.69.15:9090 shows the Cockpit login screen:\n",
    "\n",
    "![]({{ site.baseurl }}/images/cockpitHomepage.jpg)\n",
    "\n",
    "<br>\n",
    "Login with the same username and password used to login to the EC2 instance."
   ]
  },
  {
   "attachments": {},
   "cell_type": "markdown",
   "metadata": {},
   "source": [
    "## Configure subdomain\n",
    "\n",
    "1. Go to AWS Route 53 -> Hosted zone -> nighthawkcodingsociety.com\n",
    "\n",
    "2. Click on \"Create record\"\n",
    "\n",
    "3. Configure a subdomain, keep the \"Record type\" as \"A\", and add the IP address of the instance in the \"Value\" section.\n",
    "\n",
    "<br>\n",
    "\n",
    "Now you can access Cockpit at `<subdomain>:9090`."
   ]
  },
  {
   "attachments": {},
   "cell_type": "markdown",
   "metadata": {},
   "source": [
    "## Nginx\n",
    "\n",
    "Use Nginx to configure a reverse proxy for Cockpit:\n",
    "\n",
    "Create an nginx file in `/etc/nginx/sites-available/<your file name>` and add the following lines for Cockpit. Be sure to replace `<your domain name>` with the subdomain you configured:\n",
    "\n",
    "```\n",
    "server {\n",
    "    server_name    <your domain name>;\n",
    "\n",
    "    location / {\n",
    "        # Required to proxy the connection to Cockpit\n",
    "        proxy_pass https://127.0.0.1:9090;\n",
    "        proxy_set_header Host $host;\n",
    "        proxy_set_header X-Forwarded-Proto $scheme;\n",
    "\n",
    "        # Required for web sockets to function\n",
    "        proxy_http_version 1.1;\n",
    "        proxy_buffering off;\n",
    "        proxy_set_header Upgrade $http_upgrade;\n",
    "        proxy_set_header Connection \"upgrade\";\n",
    "\n",
    "        # Pass ETag header from Cockpit to clients.\n",
    "        # See: https://github.com/cockpit-project/cockpit/issues/5239\n",
    "        gzip off;\n",
    "    }\n",
    "}\n",
    "```\n",
    "\n",
    "Activate the Nginx configuration with: "
   ]
  },
  {
   "cell_type": "code",
   "execution_count": null,
   "metadata": {
    "vscode": {
     "languageId": "shellscript"
    }
   },
   "outputs": [],
   "source": [
    "sudo ln -s /etc/nginx/sites-available/<your file name> /etc/nginx/sites-enabled/<your file name>"
   ]
  },
  {
   "attachments": {},
   "cell_type": "markdown",
   "metadata": {},
   "source": [
    "Create a certificate for the website to access over HTTPS. "
   ]
  },
  {
   "cell_type": "code",
   "execution_count": null,
   "metadata": {
    "vscode": {
     "languageId": "shellscript"
    }
   },
   "outputs": [],
   "source": [
    "# Make Certbot edit Nginx configuration to enable HTTPS\n",
    "sudo certbot --nginx\n",
    "\n",
    "# Restart Nginx\n",
    "sudo systemctl restart nginx"
   ]
  },
  {
   "attachments": {},
   "cell_type": "markdown",
   "metadata": {},
   "source": [
    "## Cockpit Navigation \n",
    "\n",
    "This portion will cover Cockpit's features. Login to Cockpit by accessing your subdomain.\n",
    "\n",
    "The left navigation bar in Cockpit presents a few options that you can select:\n",
    "\n",
    "### Overview\n",
    "\n",
    "The overview section provides a summary of health, usage, system, and configuration information. Click on \"View details and history\" to check CPU, memory, and network  settings. \n",
    "\n",
    "### Logs\n",
    "\n",
    "These provide information about the system, such as a failed login. Logs can be filtered based on criteria such as time or priority. \n",
    "\n",
    "\n",
    "### Storage\n",
    "\n",
    "See disk read and write settings and storage logs. \n",
    "\n",
    "### Networking\n",
    "\n",
    "This portion shows the network traffic of the server and interface information. VLANs and bridges can also be added here. \n",
    "\n",
    "### Accounts\n",
    "\n",
    "This setting allows the administrator to create and manage accounts. You can click on a user to edit user settings, such as changing the password and adding SSH keys. \n",
    "\n",
    "### Services\n",
    "\n",
    "Click on a service to view its settings. A service can be reloaded, restarted, or stopped by clicking on the three dots. The dropdown under \"Show relationships\" includes information such as a service's dependencies and when it starts in relation with other services (what services start before and after this service)\n",
    "\n",
    "\n",
    "### Software Updates\n",
    "\n",
    "If you are running Ubuntu 17.10 or later, a \"Loading available updates failed\" error message will appear. This is because Ubuntu changed the network management from network-manager to netplan.io, which has not been updated in Cockpit. A way to fix this is to change netplan's configuration file to manage one interface with network-manager. \n",
    "\n"
   ]
  },
  {
   "cell_type": "code",
   "execution_count": null,
   "metadata": {
    "vscode": {
     "languageId": "shellscript"
    }
   },
   "outputs": [],
   "source": [
    "sudo nano /etc/netplan/50-cloud-init.yaml"
   ]
  },
  {
   "attachments": {},
   "cell_type": "markdown",
   "metadata": {},
   "source": [
    "Next, add the following line under `network:`\n",
    "\n",
    "```\n",
    "renderer: NetworkManager\n",
    "```\n",
    "\n",
    "Then, execute \n",
    "```bash \n",
    "sudo netplan try\n",
    "```\n",
    "\n",
    "Refresh Cockpit, and the \"Software Updates\" page should work. Updates can now be installed. "
   ]
  },
  {
   "attachments": {},
   "cell_type": "markdown",
   "metadata": {},
   "source": [
    "### Terminal\n",
    "\n",
    "A command line interface that is the same as the machine's terminal on AWS EC2. \n",
    "\n",
    "\n",
    "\n",
    "### Update hostname and system time\n",
    "\n",
    "Go to Overview -> Configuration -> Click on \"edit\" next to \"Hostname\" and configure a hostname for the server. \n",
    "\n",
    "Click on the time next to \"System time\" to set the time zone. \n",
    "\n",
    "### User account settings\n",
    "\n",
    "Go to Accounts -> Click on \"Create new account\" and fill out the boxes \n",
    "\n",
    "After the user is created, click on the user. You can check \"Server administrator\" to give the user `sudo` privileges. \n",
    "\n",
    "You can also configure account expiration and password expiration settings by clicking on \"edit\" next to the two settings. \n",
    "\n",
    "<br>\n",
    "\n",
    "To test the new user account created, logout, and then login with the new user credentials. If the user has administrative privileges, you can click on the button that says \"Limited access\" at the top right corner to gain those privileges. \n",
    "\n",
    "**Note**: If the user was not configured as a \"Server administrator\" and tried to gain admin privileges by clicking the button, the attempt will fail and will be logged. You can view the log by clicking on \"Logs\" in the sidebar:\n",
    "\n",
    "![]({{ site.baseurl }}/images/logs.jpg)\n"
   ]
  },
  {
   "attachments": {},
   "cell_type": "markdown",
   "metadata": {},
   "source": [
    "## Congratulations!\n",
    "\n",
    "Congratulations on deploying your site and setting up Cockpit with AWS! A special thanks to Azeem Khan, Samit Poojary, Ethan Tran, Sophie Park, Edwin Abraham, Mr. Mortensen and Jeffrey Fonseca for helping put this together."
   ]
  }
 ],
 "metadata": {
  "kernelspec": {
   "display_name": "base",
   "language": "python",
   "name": "python3"
  },
  "language_info": {
   "codemirror_mode": {
    "name": "ipython",
    "version": 3
   },
   "file_extension": ".py",
   "mimetype": "text/x-python",
   "name": "python",
   "nbconvert_exporter": "python",
   "pygments_lexer": "ipython3",
   "version": "3.9.12"
  },
  "orig_nbformat": 4,
  "vscode": {
   "interpreter": {
    "hash": "8b82d5009c68ba5675978267e2b13a671f2a7143d61273c5a3813c97e0b2493d"
   }
  }
 },
 "nbformat": 4,
 "nbformat_minor": 2
}
