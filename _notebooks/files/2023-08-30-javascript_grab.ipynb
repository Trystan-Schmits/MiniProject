{
 "cells": [
  {
   "attachments": {},
   "cell_type": "markdown",
   "metadata": {},
   "source": [
    "---\n",
    "layout: post\n",
    "title: Grab a Project\n",
    "description: Continue learning the DevOps work flow for GitHub Pages index.md, _posts or _notebooks.  Now is the time to add your first project to your site.\n",
    "toc: true\n",
    "comments: true\n",
    "categories: [C1.3]\n",
    "courses: { csse: {week: 2}, csp: {week: 0, categories: [1.A]}, csa: {week: 0} }\n",
    "type: devops\n",
    "---"
   ]
  },
  {
   "attachments": {},
   "cell_type": "markdown",
   "metadata": {},
   "source": [
    "## Overview\n",
    "What do beginning developers like to work on?  Everyones says the best way to learn a language is to build something. What would beginning developers like to build? \n",
    "- [Geeks for Geeks Research Ideas](https://www.geeksforgeeks.org/top-10-projects-for-beginners-to-practice-html-and-css-skills/#)\n",
    "    - Talk to someone who rembers their 1st Web project.  What did the build?\n",
    "    - Ask someone what they need.   It is always best to be working on something that is useful.\n",
    "    - Think about your school year.  Computer Science is often thought about as a tool box.  How would you use the tools of Computer Science to help you become a better student this year? "
   ]
  },
  {
   "attachments": {},
   "cell_type": "markdown",
   "metadata": {},
   "source": [
    "### Grab a Calculator\n",
    "Students can grab a simple calculator using HTML, CSS, and JavaScript. This project will introduce them to basic user interface design and event handling in JavaScript.\n",
    "- Learn about STYLE and SCRIPT\n",
    "- Show how style usage is integrated into THEME\n",
    "\n",
    "* Many calculators are available on Internet and ChatGPT, search \"calculator in javascript\".  Additionally, Teacher has these calculators...\n",
    "    * [Conventional Calculator](https://nighthawkcoders.github.io/APCSA/frontend/calculator)\n",
    "    * [Calculator with Background](https://nighthawkcoders.github.io/teacher/techtalk/home_style), [Source](https://raw.githubusercontent.com/nighthawkcoders/teacher/main/_posts/2023-08-23-javascript-calculator.md)\n",
    "    * [Binary Calculator](https://nighthawkcoders.github.io/APCSA/frontend/binary)"
   ]
  },
  {
   "attachments": {},
   "cell_type": "markdown",
   "metadata": {},
   "source": [
    "### Grab a Game\n",
    "Building a game is an excellent project for students to explore more advanced JavaScript concepts, such as game logic, handling user interactions, and managing state.\n",
    "\n",
    "* Many Tic Tac Toe games are available on Internet and ChatGPT, search \"tic-tack-toe in javascript\".  Additionally, Teach has some other games that are very common...\n",
    "    * [Snake Game](https://nighthawkcoders.github.io/APCSA/frontend/snake)\n",
    "    * [Game of Life](https://nighthawkcoders.github.io/APCSA/frontend/life)"
   ]
  },
  {
   "attachments": {},
   "cell_type": "markdown",
   "metadata": {},
   "source": []
  }
 ],
 "metadata": {
  "language_info": {
   "name": "python"
  },
  "orig_nbformat": 4
 },
 "nbformat": 4,
 "nbformat_minor": 2
}
