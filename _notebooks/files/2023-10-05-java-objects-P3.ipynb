{
 "cells": [
  {
   "cell_type": "raw",
   "metadata": {},
   "source": [
    "---\n",
    "## Object Classes\n",
    "toc: true\n",
    "comments: true\n",
    "layout: post\n",
    "title: U2 Using Objects - Student P3\n",
    "description: Object are instances of Classes. \n",
    "courses: { csa: {week: 7} }\n",
    "type: ccc\n",
    "author: grace\n",
    "---"
   ]
  },
  {
   "cell_type": "markdown",
   "metadata": {},
   "source": [
    "## Unit 2.1- Objects: Instances of Classes\n",
    "\n",
    "#### What are objects?\n",
    "\n",
    "An **Object** is created from a class by calling the class constructor. \n",
    "\n",
    "#### What are classes?\n",
    "\n",
    "A **Class** is a template that defines an object is like and what it can do. \n",
    "\n",
    "#### Objects are Instances of Classes\n",
    "\n",
    "For example, if the class is a blueprint for a house, the object is a particular house. \n",
    "\n"
   ]
  },
  {
   "cell_type": "markdown",
   "metadata": {},
   "source": [
    "#### Example\n",
    "\n",
    "Here is an example of creating a Student class in Java. It contains instance variables that define the characteristics of a student."
   ]
  },
  {
   "cell_type": "code",
   "execution_count": 4,
   "metadata": {},
   "outputs": [],
   "source": [
    "public class Student {\n",
    "\n",
    "    // instance variables\n",
    "    String name;\n",
    "    String teacher;\n",
    "    int period;\n",
    "  \n",
    "    // constructor\n",
    "    public Student(String name, String teacher, int period) {\n",
    "      this.name = name;\n",
    "      this.teacher = teacher;\n",
    "      this.period = period;\n",
    "    }\n",
    "  }"
   ]
  },
  {
   "cell_type": "markdown",
   "metadata": {},
   "source": [
    "Now, using our class, we can create student objects by initializing two students"
   ]
  },
  {
   "cell_type": "code",
   "execution_count": 5,
   "metadata": {},
   "outputs": [],
   "source": [
    "Student grace = new Student(\"Grace\", \"Mr. Mort\", 3);\n",
    "Student alice = new Student(\"Alice\", \"Mr. Mort\", 1);"
   ]
  },
  {
   "cell_type": "markdown",
   "metadata": {},
   "source": [
    "We can printout information about each student"
   ]
  },
  {
   "cell_type": "code",
   "execution_count": 6,
   "metadata": {},
   "outputs": [
    {
     "name": "stdout",
     "output_type": "stream",
     "text": [
      "Grace\n"
     ]
    }
   ],
   "source": [
    "System.out.println(grace.name);"
   ]
  },
  {
   "cell_type": "code",
   "execution_count": 7,
   "metadata": {},
   "outputs": [
    {
     "name": "stdout",
     "output_type": "stream",
     "text": [
      "1\n"
     ]
    }
   ],
   "source": [
    "System.out.println(alice.period);"
   ]
  },
  {
   "cell_type": "markdown",
   "metadata": {},
   "source": [
    "#### Learning Objectives\n",
    "\n",
    "- Explain the relationship between a class and an object.\n",
    "\n",
    "<details>\n",
    "<summary>Answer</summary>\n",
    "\n",
    "A class in object-oriented programming serves as a blueprint or template, defining the structure and behavior of objects. Objects, on the other hand, are instances of a class, representing real-world entities or concepts in code. Each object created from a class inherits its attributes and methods, allowing multiple objects to share a common structure while having their own unique data and behaviors.\n",
    "\n",
    "</details>\n",
    "\n",
    "#### Essential Knowledge\n",
    "\n",
    "- An object is a specific instance of a class with defined attributes.\n",
    "- A class is the formal implementation, or blueprint, of the attributes and behaviors of an object. "
   ]
  },
  {
   "cell_type": "markdown",
   "metadata": {},
   "source": [
    "## Unit 2.2- Creating and Storing Objects (Instantiation)"
   ]
  },
  {
   "cell_type": "markdown",
   "metadata": {},
   "source": [
    "So, after we learned about **classes**, how are **objects** actually made?\n",
    "\n",
    "Using our previous code, we can see created our constructor using \n",
    "```\n",
    "public Student(String name, String teacher, int period) {\n",
    "      this.name = name;\n",
    "      this.teacher = teacher;\n",
    "      this.period = period;\n",
    "    }\n",
    "```"
   ]
  },
  {
   "cell_type": "code",
   "execution_count": null,
   "metadata": {},
   "outputs": [],
   "source": [
    "public class Student {\n",
    "\n",
    "    // instance variables\n",
    "    String name;\n",
    "    String teacher;\n",
    "    int period;\n",
    "  \n",
    "    // constructor\n",
    "    public Student(String name, String teacher, int period) {\n",
    "      this.name = name;\n",
    "      this.teacher = teacher;\n",
    "      this.period = period;\n",
    "    }\n",
    "  }"
   ]
  },
  {
   "cell_type": "markdown",
   "metadata": {},
   "source": [
    "The **Student** is the name of the class. The first letter is capitalized according to Java naming conventions (camel-case naming conventions). Then, using the **new** keyword, we call the constructor to make a new **Student**. Inside the parentheses, we have the parameter list, where the values and characteristics of the object are entered."
   ]
  },
  {
   "cell_type": "markdown",
   "metadata": {},
   "source": [
    "```\n",
    "Student grace = new Student(\"Grace\", \"Mr. Mort\", 3);\n",
    "```\n",
    "\n",
    "The **parameters** in this case are \"Grace\", \"Mr. Mort\", and 3. "
   ]
  },
  {
   "cell_type": "markdown",
   "metadata": {},
   "source": [
    "#### Constructor Overloads\n",
    "\n",
    "A class can have multiple constructors, however, the number of parameters must be different or the order must be different. This is an example of **overloading** the constructor.\n"
   ]
  },
  {
   "cell_type": "markdown",
   "metadata": {},
   "source": [
    "```\n",
    "// Constructor 1\n",
    "Student(String name, String teacher, int period)\n",
    "\n",
    "\n",
    "// Constructor 2\n",
    "Student(String teacher, String name, int period)\n",
    "```\n",
    "\n",
    "This two constructors are not allowed. For example, if we call\n",
    "\n",
    "```\n",
    "Student(\"Grace\", \"Mr. Mort\", 3);\n",
    "```\n",
    "\n",
    "we would not know whether Grace or Mr. Mort is the student."
   ]
  },
  {
   "cell_type": "markdown",
   "metadata": {},
   "source": [
    "However, constructors with different data types or different number of parameters are allowed when overloading. Here are some examples...\n",
    "\n",
    "```\n",
    "Student(String name, String teacher, int period)\n",
    "Student(String name, String teacher)\n",
    "Student()\n",
    "```"
   ]
  },
  {
   "cell_type": "markdown",
   "metadata": {},
   "source": [
    "#### Null Objects"
   ]
  },
  {
   "cell_type": "code",
   "execution_count": null,
   "metadata": {},
   "outputs": [],
   "source": [
    "Student rachit = null;"
   ]
  },
  {
   "cell_type": "markdown",
   "metadata": {},
   "source": [
    "Null basically states that no object exists, and it is not stored in memory. You cannot call methods on an object that is declared as null since null objects do not have any information or characteristics set to that object. This will create a NullPointerException"
   ]
  },
  {
   "cell_type": "markdown",
   "metadata": {},
   "source": [
    "#### Learning Objectives\n",
    "\n",
    "- Identify, using its signature, the correct constructor being called.\n",
    "* Note: Method Signature in java is defined as the structure of a method that is designed by the programmer\n",
    "\n",
    "```\n",
    "public class Student {\n",
    "\n",
    "    // instance variables\n",
    "    String name;\n",
    "    String teacher;\n",
    "    int period;\n",
    "  \n",
    "    // constructor\n",
    "    public Student(String name, String teacher, int period) {\n",
    "      this.name = name;\n",
    "      this.teacher = teacher;\n",
    "      this.period = period;\n",
    "    }\n",
    "  }\n",
    "```\n",
    "\n",
    "<details>\n",
    "<summary>Answer</summary>\n",
    "\n",
    "```\n",
    "Student(\"Grace\", \"Mr. Mort\", 3);\n",
    "```\n",
    "\n",
    "- For creating objects: (a) Create objects by calling constructors without parameters. (b) Create objects by calling constructors with parameters.\n",
    "- Define variables of the correct types to represent reference data.\n",
    "\n",
    "</details>"
   ]
  },
  {
   "cell_type": "markdown",
   "metadata": {},
   "source": [
    "## Unit 2.3- Calling a Void Method"
   ]
  },
  {
   "cell_type": "markdown",
   "metadata": {},
   "source": [
    "**method**: code that is called in order to achieve a task\n",
    "- can be void or non-void, static or non-static\n",
    "\n",
    "**void method**: do not return a value but instead change other things. These include changing characteristics of an object or printing text to the console. Here is an example...\n",
    "\n",
    "```\n",
    "public void methodName(parameterList)\n",
    "```\n",
    "\n",
    "**static method**: general to the class and not tied to any particular object. The method is denoted by the Here is an example ...\n",
    "\n",
    "```\n",
    "public static void add() {\n",
    "  count++;\n",
    "}\n",
    "\n",
    "```\n",
    "\n",
    "To call a static method, we use dot notation, with the class name coming before the method separated by a dot as follows\n",
    "\n",
    "```\n",
    "ClassName.add();\n",
    "```\n",
    "\n",
    "**non-static method**: acts on a particular object. For example, printing a person's name is a non-static method, since each person has a different name. For example...\n",
    "\n",
    "```\n",
    "public void printName() {\n",
    "  System.out.println(name);\n",
    "}\n",
    "```\n",
    "\n",
    "When calling a non-static method, we also use dot notation. But, instead of using the class name, we use the object name so we know what object the method acts on. Also, we don't need to do dot notation of ClassName.objectName.methodName() because an object already acts on a certain class, so using the class name is just redundant.  We would use printName() as follows...\n",
    "\n",
    "```\n",
    "objectName.printName();\n",
    "```"
   ]
  },
  {
   "cell_type": "markdown",
   "metadata": {},
   "source": [
    "Run the main method and see what the each of the methods prints out"
   ]
  },
  {
   "cell_type": "code",
   "execution_count": 8,
   "metadata": {},
   "outputs": [],
   "source": [
    "public class MyClass {\n",
    "\n",
    "    // Static method\n",
    "    public static void staticMethod() {\n",
    "        System.out.println(\"This is a static method.\");\n",
    "    }\n",
    "\n",
    "    // Non-static (instance) method\n",
    "    public void nonStaticMethod() {\n",
    "        System.out.println(\"This is a non-static method.\");\n",
    "    }\n",
    "\n",
    "    // Method with void return type\n",
    "    public void methodWithVoidReturnType() {\n",
    "        System.out.println(\"This method has a void return type.\");\n",
    "    }\n",
    "\n",
    "    public static void main(String[] args) {\n",
    "        // Calling the static method\n",
    "        staticMethod();\n",
    "\n",
    "        // Creating an object of MyClass\n",
    "        MyClass myObject = new MyClass();\n",
    "\n",
    "        // Calling the non-static method on the object\n",
    "        myObject.nonStaticMethod();\n",
    "\n",
    "        // Calling the method with void return type\n",
    "        myObject.methodWithVoidReturnType();\n",
    "    }\n",
    "}\n"
   ]
  },
  {
   "cell_type": "markdown",
   "metadata": {},
   "source": [
    "### Learning Objective\n",
    "\n",
    "- Call non-static void methods without parameters. "
   ]
  },
  {
   "cell_type": "markdown",
   "metadata": {},
   "source": [
    "### Unit 2.4- Calling a Void Method With Parameters"
   ]
  },
  {
   "cell_type": "markdown",
   "metadata": {},
   "source": [
    "The method signature for writing void method with parameters is the same as a constructor, with the name of the method followed by the parameters and their types in parentheses. For example, here is a method that prints the perimeter of a rectangle..."
   ]
  },
  {
   "cell_type": "code",
   "execution_count": 2,
   "metadata": {},
   "outputs": [],
   "source": [
    "public static void printRectanglePerimeter(double length, double width) {\n",
    "    System.out.println(2 * (length + width));\n",
    "  }   "
   ]
  },
  {
   "cell_type": "code",
   "execution_count": 3,
   "metadata": {},
   "outputs": [
    {
     "name": "stdout",
     "output_type": "stream",
     "text": [
      "8.0\n"
     ]
    }
   ],
   "source": [
    "printRectanglePerimeter(1.5, 2.5);"
   ]
  },
  {
   "cell_type": "markdown",
   "metadata": {},
   "source": [
    "We can also overload methods as well. This overloading of the method is acceptable because there are different numbers of parameters. "
   ]
  },
  {
   "cell_type": "code",
   "execution_count": null,
   "metadata": {},
   "outputs": [],
   "source": [
    "// If 2 parameters are given, we will calculate the perimeter by adding the length and width and doubling it\n",
    "public static void printRectanglePerimeter(double length, double width) {\n",
    "    System.out.println(2 * (length + width));\n",
    "}\n",
    "\n",
    "// If 1 parameter is given, we assume the shape is a square\n",
    "public static void printRectanglePerimeter(double side) {\n",
    "    System.out.println(4 * side);\n",
    "}\n",
    "\n",
    "// No shape exists, no perimeter is calculated\n",
    "public static void printRectanglePerimeter() {\n",
    "    System.out.println(0);\n",
    "}"
   ]
  },
  {
   "cell_type": "markdown",
   "metadata": {},
   "source": [
    "### Unit 2.5- Calling a Non-Void Method\n",
    "\n",
    "**Void methods**: complete actions and represent tasks. They are used when you want a method to perform a task or operation without producing a result that needs to be used elsewhere in your program. Void methods are typically used for actions like printing a message, updating a data structure, or modifying the state of an object.\n",
    "\n",
    "Format for a non-void method:\n",
    "```\n",
    "public (static) dataType methodName(parameterListOptional)\n",
    "```"
   ]
  },
  {
   "cell_type": "markdown",
   "metadata": {},
   "source": [
    "Which method in this class is a non-void method? Edit the cell below to call the Calculator method."
   ]
  },
  {
   "cell_type": "code",
   "execution_count": 1,
   "metadata": {},
   "outputs": [
    {
     "name": "stdout",
     "output_type": "stream",
     "text": [
      "Sum: 8\n"
     ]
    }
   ],
   "source": [
    "public class Calculator {\n",
    "    // A non-void method that adds two numbers and returns the result\n",
    "    public int add(int a, int b) {\n",
    "        return a + b;\n",
    "    }\n",
    "\n",
    "    public static void main(String[] args) {\n",
    "        Calculator calculator = new Calculator();\n",
    "\n",
    "        // Calling the non-void method and capturing the result\n",
    "        int sum = calculator.add(5, 3);\n",
    "\n",
    "        // Printing the result\n",
    "        System.out.println(\"Sum: \" + sum); // Output: Sum: 8\n",
    "    }\n",
    "}\n",
    "Calculator.main(null)"
   ]
  },
  {
   "cell_type": "markdown",
   "metadata": {},
   "source": [
    "### 2.6 String Objects: Concatenation, Literals, and More\n",
    "\n",
    "Guess what's crazy? String literals are not actually primitives, they are considered objects! String literals are part of the aptly named String class included in Java and have a set of methods that come along with it. We'll see what we can do with the String class in the next topic!\n",
    "\n",
    "There are two ways to make strings: using a preinitialized string or by using a constructor. "
   ]
  },
  {
   "cell_type": "code",
   "execution_count": 6,
   "metadata": {},
   "outputs": [
    {
     "name": "stdout",
     "output_type": "stream",
     "text": [
      "Hello World!\n"
     ]
    },
    {
     "name": "stdout",
     "output_type": "stream",
     "text": [
      "Hello World!\n"
     ]
    }
   ],
   "source": [
    "String preInt = \"Hello World!\"; // How we usually initialize strings\n",
    "System.out.println(preInt);\n",
    "\n",
    "// Using a constructor:\n",
    "String newString = new String(\"Hello World!\");\n",
    "System.out.println(newString);"
   ]
  },
  {
   "cell_type": "markdown",
   "metadata": {},
   "source": [
    "#### Escape Characters\n",
    "Sometimes, you want to put a quote in a string. However, you quickly find out that the opening quotation in the quote marks the \"end\" of the string and you can't type out your quote unless you want the program to crash. What can you do?"
   ]
  },
  {
   "cell_type": "markdown",
   "metadata": {},
   "source": [
    "![Alt text](https://media.discordapp.net/attachments/1010780182476496908/1159224994707021945/image.png?ex=65303f68&is=651dca68&hm=d8ba25c57cc1d41eb20fd2f3621f2ae0472efb874dba76d7078415c0d0b34613&=&width=2268&height=622)"
   ]
  },
  {
   "cell_type": "markdown",
   "metadata": {},
   "source": [
    "Challenge: Display the background of the quote while displaying the quote in one line: \"Give me liberty or give me death!\" - Patrick Henry."
   ]
  },
  {
   "cell_type": "code",
   "execution_count": 2,
   "metadata": {},
   "outputs": [
    {
     "name": "stdout",
     "output_type": "stream",
     "text": [
      "This is a famous quote written by Patrick Henry in the Virginia Convention: \n",
      "\"Give me liberty or give me death!\"\n"
     ]
    }
   ],
   "source": [
    "System.out.println(\"This is a famous quote written by Patrick Henry in the Virginia Convention: \\n\\\"Give me liberty or give me death!\\\"\")"
   ]
  },
  {
   "cell_type": "markdown",
   "metadata": {},
   "source": [
    "#### String Concatenation\n",
    "\n",
    "When we combine two strings together, we call that string concatenation. We use the '+' operator to concatenate two strings. "
   ]
  },
  {
   "cell_type": "code",
   "execution_count": 8,
   "metadata": {},
   "outputs": [
    {
     "name": "stdout",
     "output_type": "stream",
     "text": [
      "I amhungry\n"
     ]
    }
   ],
   "source": [
    "System.out.println(\"I am\" + \"hungry\");"
   ]
  },
  {
   "cell_type": "markdown",
   "metadata": {},
   "source": [
    "Notice how there is no space between am and hungry. This is because the java '+' operator does not add a space, but instead, joins the strings together without adding anything in between. To fix this, we add a space in between."
   ]
  },
  {
   "cell_type": "code",
   "execution_count": 9,
   "metadata": {},
   "outputs": [
    {
     "name": "stdout",
     "output_type": "stream",
     "text": [
      "I am hungry\n"
     ]
    }
   ],
   "source": [
    "System.out.println(\"I am\" + \" \" + \"hungry\");"
   ]
  },
  {
   "cell_type": "markdown",
   "metadata": {},
   "source": [
    "However, when we want to use variables with our strings, we can also use the '+=' operator to concatenate our strings. The '+' operator still works, however."
   ]
  },
  {
   "cell_type": "code",
   "execution_count": 19,
   "metadata": {},
   "outputs": [
    {
     "name": "stdout",
     "output_type": "stream",
     "text": [
      "Hello World\n",
      "Hello World\n"
     ]
    }
   ],
   "source": [
    "String a1 = \"Hello \";\n",
    "String a2 = \"World\";\n",
    "System.out.println(a1 + a2);\n",
    "System.out.println(a1 += a2);"
   ]
  },
  {
   "cell_type": "markdown",
   "metadata": {},
   "source": [
    "Can you guess what happens when we try to change a string object?"
   ]
  },
  {
   "cell_type": "code",
   "execution_count": 13,
   "metadata": {},
   "outputs": [
    {
     "name": "stdout",
     "output_type": "stream",
     "text": [
      "s1 refers to Java\n",
      "s2 refers to Hello\n",
      "s3 refers to Hello\n",
      "newS3 refers to Hello Scaler\n"
     ]
    }
   ],
   "source": [
    "String s1 = \"Hello\"; // String literal\n",
    "String s2 = \"Hello\"; // String literal\n",
    "String s3 = s1; // same reference\n",
    "\n",
    "//Changing the value of s1\n",
    "s1 = \"Java\";\n",
    "\n",
    "//Updating with concat() operation\n",
    "s2.concat(\" World\");\n",
    "\n",
    "//The concatenated String will be created as a new instance and an object should refer to that instance to get the concatenated value.\n",
    "String newS3 = s3.concat(\" Scaler\");\n",
    "\n",
    "System.out.println(\"s1 refers to \" + s1);\n",
    "System.out.println(\"s2 refers to \" + s2);\n",
    "System.out.println(\"s3 refers to \" + s3);\n",
    "System.out.println(\"newS3 refers to \" + newS3);"
   ]
  },
  {
   "cell_type": "markdown",
   "metadata": {},
   "source": [
    "The strings are immutable! This is because immutable strings allows Java to be safe in multithread applications (no changes that were not supposed to happen at that time in the program), and it makes the string object very efficient, as the strings are stored in a \"string pool\" that Java uses, which allows strings to only be created once but used over and over again if the same string object is created multiple times."
   ]
  },
  {
   "cell_type": "markdown",
   "metadata": {},
   "source": [
    "One last cool thing about strings is that primitive types change to string objects when concatenated. You have been doing this all the time, but here is the proof!"
   ]
  },
  {
   "cell_type": "code",
   "execution_count": 21,
   "metadata": {},
   "outputs": [
    {
     "name": "stdout",
     "output_type": "stream",
     "text": [
      "Here is the key: 0.5\n"
     ]
    }
   ],
   "source": [
    "String message = \"Here is the key: \";\n",
    "double key = 0.5;\n",
    "\n",
    "System.out.println(message + key)"
   ]
  },
  {
   "cell_type": "markdown",
   "metadata": {},
   "source": [
    "### 2.7 String Methods\n",
    "\n",
    "#### Intro to External Libraries and APIs\n",
    "There is a lot you can do with the factory version of Java, however, just like Python and many other languages, there are many new things you can do with the Java external libraries and APIs (application program interfaces). \n",
    "All Java classes, libraries, and APIs come with documentation, which lists the methods of the class and also how to use the class and its methods. Here is the official Java documentation for the String class:\n",
    "\n",
    "[Java Docs](https://docs.oracle.com/en/java/javase/11/docs/api/java.base/java/lang/String.html)\n",
    "\n",
    "Courtesy of Java."
   ]
  },
  {
   "cell_type": "markdown",
   "metadata": {},
   "source": [
    "#### About the String Class\n",
    "__The String class is a class in the java.lang package that comes when you install Java on your computer.__\n",
    "### Accessing Substrings\n",
    "With strings, we can access substrings and characters in the string. A substring is a string that is included within a larger string, and a character is a substring with a length of 1. First, we need to figure out the length of a string, which is the number of characters in the string. To do this, we use the following method:"
   ]
  },
  {
   "cell_type": "code",
   "execution_count": 34,
   "metadata": {},
   "outputs": [
    {
     "name": "stdout",
     "output_type": "stream",
     "text": [
      "9\n"
     ]
    }
   ],
   "source": [
    "String str = \"Kaiden Do\";\n",
    "System.out.println(str.length())"
   ]
  },
  {
   "cell_type": "markdown",
   "metadata": {},
   "source": [
    "We can also get a index for the strings. For example, if we take \"Kaiden Do\"...\n",
    "\n",
    "| Index | Character |\n",
    "| --- | --- |\n",
    "| 0 | K |\n",
    "| 1 | a |\n",
    "| 2 | i |\n",
    "| 3 | d |\n",
    "| 4 | e |\n",
    "| 5 | n |\n",
    "| 6 |   |\n",
    "| 7 | D |\n",
    "| 8 | o |"
   ]
  },
  {
   "cell_type": "code",
   "execution_count": 45,
   "metadata": {},
   "outputs": [
    {
     "name": "stdout",
     "output_type": "stream",
     "text": [
      "Kaiden\n",
      "Do\n"
     ]
    }
   ],
   "source": [
    "String str = \"Kaiden Do\";\n",
    "System.out.println(str.substring(0, 6)); // Range is [_,_)\n",
    "System.out.println(str.substring(7, 9)); // Range is [_,_)"
   ]
  },
  {
   "cell_type": "markdown",
   "metadata": {},
   "source": [
    "How would we get the nth character of a string? Write a program to find it with an integer n that you can change to get the nth character in the cell below."
   ]
  },
  {
   "cell_type": "code",
   "execution_count": 8,
   "metadata": {},
   "outputs": [
    {
     "name": "stdout",
     "output_type": "stream",
     "text": [
      "P\n"
     ]
    }
   ],
   "source": [
    "String str = \"Pizza is yummy\";\n",
    "int n = 1;\n",
    "System.out.println(str.substring(n - 1, n));"
   ]
  },
  {
   "cell_type": "markdown",
   "metadata": {},
   "source": [
    "Question: If we have a string, what is its lower bound index and what is its upper bound index, if the string length is equal to the variable 'str'?\n",
    "\n",
    "Answer: \n",
    "\n",
    "Lower Bound Index: 0 \n",
    "\n",
    "Upper Bound Index: str - 1"
   ]
  },
  {
   "cell_type": "markdown",
   "metadata": {},
   "source": [
    "Question: What is the error for an out of bound string? Display it in the cell below."
   ]
  },
  {
   "cell_type": "code",
   "execution_count": 9,
   "metadata": {},
   "outputs": [
    {
     "ename": "EvalException",
     "evalue": "Range [0, 1000) out of bounds for length 5",
     "output_type": "error",
     "traceback": [
      "\u001b[1m\u001b[31m---------------------------------------------------------------------------\u001b[0m",
      "\u001b[1m\u001b[31mjava.lang.StringIndexOutOfBoundsException: Range [0, 1000) out of bounds for length 5\u001b[0m",
      "\u001b[1m\u001b[31m\tat java.base/jdk.internal.util.Preconditions$1.apply(Preconditions.java:55)\u001b[0m",
      "\u001b[1m\u001b[31m\tat java.base/jdk.internal.util.Preconditions$1.apply(Preconditions.java:52)\u001b[0m",
      "\u001b[1m\u001b[31m\tat java.base/jdk.internal.util.Preconditions$4.apply(Preconditions.java:213)\u001b[0m",
      "\u001b[1m\u001b[31m\tat java.base/jdk.internal.util.Preconditions$4.apply(Preconditions.java:210)\u001b[0m",
      "\u001b[1m\u001b[31m\tat java.base/jdk.internal.util.Preconditions.outOfBounds(Preconditions.java:98)\u001b[0m",
      "\u001b[1m\u001b[31m\tat java.base/jdk.internal.util.Preconditions.outOfBoundsCheckFromToIndex(Preconditions.java:112)\u001b[0m",
      "\u001b[1m\u001b[31m\tat java.base/jdk.internal.util.Preconditions.checkFromToIndex(Preconditions.java:349)\u001b[0m",
      "\u001b[1m\u001b[31m\tat java.base/java.lang.String.checkBoundsBeginEnd(String.java:4608)\u001b[0m",
      "\u001b[1m\u001b[31m\tat java.base/java.lang.String.substring(String.java:2720)\u001b[0m",
      "\u001b[1m\u001b[31m\tat .(#21:1)\u001b[0m"
     ]
    }
   ],
   "source": [
    "String str = \"Hello\";\n",
    "System.out.println(str.substring(0, 1000))"
   ]
  },
  {
   "cell_type": "markdown",
   "metadata": {},
   "source": [
    "To do a ctrl-F search through a string, we can use the following process:"
   ]
  },
  {
   "cell_type": "code",
   "execution_count": 46,
   "metadata": {},
   "outputs": [
    {
     "name": "stdout",
     "output_type": "stream",
     "text": [
      "246\n"
     ]
    }
   ],
   "source": [
    "String str = \"He stared out the window at the snowy field. He'd been stuck in the house for close to a month and his only view of the outside world was through the window. There wasn't much to see. It was mostly just the field with an occasional bird or small animal who ventured into the field. As he continued to stare out the window, he wondered how much longer he'd be shackled to the steel bar inside the house.\";\n",
    "System.out.println(str.indexOf(\"animal\"))"
   ]
  },
  {
   "cell_type": "markdown",
   "metadata": {},
   "source": [
    "As you can see, the first instance of animal starts at the index of 246."
   ]
  },
  {
   "cell_type": "markdown",
   "metadata": {},
   "source": [
    "To compare two strings to each other, we use two functions:"
   ]
  },
  {
   "cell_type": "code",
   "execution_count": 48,
   "metadata": {},
   "outputs": [
    {
     "name": "stdout",
     "output_type": "stream",
     "text": [
      "Does string 1 equal string 2? True or false: true\n",
      "Does string 1 equal string 2? True or false: false\n"
     ]
    }
   ],
   "source": [
    "// To check if a string is equal to another string:\n",
    "String str1 = \"I am hungry\";\n",
    "String str2 = \"I am hungry\";\n",
    "System.out.println(\"Does string 1 equal string 2? True or false: \" + str1.equals(str2));\n",
    "String str2 = \"I am not hungry\";\n",
    "System.out.println(\"Does string 1 equal string 2? True or false: \" + str1.equals(str2));"
   ]
  },
  {
   "cell_type": "code",
   "execution_count": 55,
   "metadata": {},
   "outputs": [
    {
     "name": "stdout",
     "output_type": "stream",
     "text": [
      "-6\n"
     ]
    },
    {
     "name": "stdout",
     "output_type": "stream",
     "text": [
      "0\n",
      "1\n"
     ]
    }
   ],
   "source": [
    "// To compare the lengths of the strings\n",
    "\n",
    "// Case 1: String 1 is shorter than string 2\n",
    "String str1 = \"I am hungry\";\n",
    "String str2 = \"I am not hungry\";\n",
    "System.out.println(str1.compareTo(str2)); // Returns less than 0\n",
    "\n",
    "// Case 2: String 1 is equal string 2\n",
    "String str1 = \"I am hungry\";\n",
    "String str2 = \"I am hungry\";\n",
    "System.out.println(str1.compareTo(str2)); // Returns 0\n",
    "\n",
    "// Case 3: String 1 is longer than string 2\n",
    "String str1 = \"I am hungry\";\n",
    "String str2 = \"Hello!\";\n",
    "System.out.println(str1.compareTo(str2)); // Returns greater than 0"
   ]
  },
  {
   "cell_type": "markdown",
   "metadata": {},
   "source": [
    "compareTo() returns the difference of first unmatched character in the two compared strings. If no unmatch is found, and one string comes out as shorter than other one, then the length difference is returned. It also checks to see if a string comes before or after another string alphabetically."
   ]
  },
  {
   "cell_type": "markdown",
   "metadata": {},
   "source": [
    "### 2.8 Wrapper Classes: Integer and Double\n",
    "You probably know what an integer is (if you don't see me after class immediatley!), and you probably know what a double is (again, if you don't see me after class immediatley!).\n",
    "\n",
    "\n",
    "<details>\n",
    "<summary>But did you know...</summary>\n",
    "<br>\n",
    "Integers and Doubles are classes called <strong>wrapper classes</strong>!\n",
    "</details>\n"
   ]
  },
  {
   "cell_type": "markdown",
   "metadata": {},
   "source": [
    "Why would we want to do this? Answer the question in this cell.\n",
    "\n",
    "Maybe we want to pass a variable as an integer but the program only accepts objects."
   ]
  },
  {
   "cell_type": "markdown",
   "metadata": {},
   "source": [
    "<details>\n",
    "<summary>Answer</summary>\n",
    "<br>\n",
    "These classes convert primitive data types (int/double) to a reference data type (object). We convert these because different data structures in java require different types of variables, some of which are only objects. By parsing the values of the primitive data to an object, we can send values to methods and structures that only take object values, like ArrayList, for example. \n",
    "</details>"
   ]
  },
  {
   "cell_type": "markdown",
   "metadata": {},
   "source": [
    "#### The integer Wrapper Class\n",
    "The Integer class in Java is a wrapper class for the primitive data type int. It provides several methods that can be used to perform operations on int values. The constructor looks like this:"
   ]
  },
  {
   "cell_type": "code",
   "execution_count": null,
   "metadata": {},
   "outputs": [],
   "source": [
    "Integer(int value)"
   ]
  },
  {
   "cell_type": "markdown",
   "metadata": {},
   "source": [
    "An example of this running is:"
   ]
  },
  {
   "cell_type": "code",
   "execution_count": 11,
   "metadata": {},
   "outputs": [],
   "source": [
    "Integer hungerRating = new Integer(5); // Send to an Object\n",
    "int hungerRatingNum = hungerRating.intValue(); // Turn back into a primitive"
   ]
  },
  {
   "cell_type": "markdown",
   "metadata": {},
   "source": [
    "An example of it being utilized is:"
   ]
  },
  {
   "cell_type": "code",
   "execution_count": 12,
   "metadata": {},
   "outputs": [
    {
     "ename": "CompilationException",
     "evalue": "",
     "output_type": "error",
     "traceback": [
      "\u001b[1m\u001b[30m|   \u001b[1m\u001b[30mArrayList<\u001b[0m\u001b[1m\u001b[30m\u001b[41mint\u001b[0m\u001b[1m\u001b[30m> list = new ArrayList<int>();  // This will cause a compile-time error\u001b[0m",
      "\u001b[1m\u001b[31munexpected type\u001b[0m",
      "\u001b[1m\u001b[31m  required: reference\u001b[0m",
      "\u001b[1m\u001b[31m  found:    int\u001b[0m",
      "",
      "\u001b[1m\u001b[30m|   \u001b[1m\u001b[30mArrayList<int> list = new ArrayList<\u001b[0m\u001b[1m\u001b[30m\u001b[41mint\u001b[0m\u001b[1m\u001b[30m>();  // This will cause a compile-time error\u001b[0m",
      "\u001b[1m\u001b[31munexpected type\u001b[0m",
      "\u001b[1m\u001b[31m  required: reference\u001b[0m",
      "\u001b[1m\u001b[31m  found:    int\u001b[0m",
      ""
     ]
    }
   ],
   "source": [
    "ArrayList<int> list = new ArrayList<int>();  // This will cause a compile-time error"
   ]
  },
  {
   "cell_type": "markdown",
   "metadata": {},
   "source": [
    "The above code will not work because ArrayList requires on object type, while we are passing a primitive type."
   ]
  },
  {
   "cell_type": "code",
   "execution_count": 1,
   "metadata": {},
   "outputs": [
    {
     "name": "stdout",
     "output_type": "stream",
     "text": [
      "[5]\n"
     ]
    }
   ],
   "source": [
    "ArrayList<Integer> list = new ArrayList<Integer>();\n",
    "list.add(5);  // Autoboxing will automatically convert the int 5 to an Integer object\n",
    "System.out.println(list)"
   ]
  },
  {
   "cell_type": "markdown",
   "metadata": {},
   "source": [
    "This code works because the 5 is being converted by the list.add, since the list uses integer objects. "
   ]
  },
  {
   "cell_type": "markdown",
   "metadata": {},
   "source": [
    "Moreover, we can also get other data from the integer class, which is related to how Java functions."
   ]
  },
  {
   "cell_type": "code",
   "execution_count": 16,
   "metadata": {},
   "outputs": [
    {
     "name": "stdout",
     "output_type": "stream",
     "text": [
      "Integer Min Value: -2147483648\n",
      "Integer Max Value: 2147483647\n"
     ]
    }
   ],
   "source": [
    "System.out.println(\"Integer Min Value: \" + Integer.MIN_VALUE);\n",
    "System.out.println(\"Integer Max Value: \" + Integer.MAX_VALUE);"
   ]
  },
  {
   "cell_type": "markdown",
   "metadata": {},
   "source": [
    "These numbers are the bounds of integers in java. For example, we can try going outside the range to see what happens."
   ]
  },
  {
   "cell_type": "code",
   "execution_count": 17,
   "metadata": {},
   "outputs": [
    {
     "ename": "CompilationException",
     "evalue": "",
     "output_type": "error",
     "traceback": [
      "\u001b[1m\u001b[30m|   \u001b[1m\u001b[30mInteger pleaseBreak = new Integer(\u001b[0m\u001b[1m\u001b[30m\u001b[41m\u001b[0m\u001b[1m\u001b[30m2147483648);\u001b[0m",
      "\u001b[1m\u001b[31minteger number too large\u001b[0m",
      ""
     ]
    }
   ],
   "source": [
    "Integer pleaseBreak = new Integer(2147483648)"
   ]
  },
  {
   "cell_type": "markdown",
   "metadata": {},
   "source": [
    "#### Double Wrapper Classes\n",
    "\n",
    "Double wrapper classes are basically the same thing as integer classes, however, they deal with double varaiables instead of integer variables. You write it like this:"
   ]
  },
  {
   "cell_type": "code",
   "execution_count": null,
   "metadata": {},
   "outputs": [],
   "source": [
    "Double(Double Value)"
   ]
  },
  {
   "cell_type": "markdown",
   "metadata": {},
   "source": [
    "Here is an example of using Double object:"
   ]
  },
  {
   "cell_type": "code",
   "execution_count": 4,
   "metadata": {},
   "outputs": [],
   "source": [
    "// My actual height in real life (in feet)\n",
    "Double height = new Double(6.6); // Send to an Object\n",
    "double primitiveHeight = height.doubleValue(); // Turn back into a primitive"
   ]
  },
  {
   "cell_type": "markdown",
   "metadata": {},
   "source": [
    "And here is an example of when it works and when it does not."
   ]
  },
  {
   "cell_type": "code",
   "execution_count": 5,
   "metadata": {},
   "outputs": [
    {
     "ename": "CompilationException",
     "evalue": "",
     "output_type": "error",
     "traceback": [
      "\u001b[1m\u001b[30m|   \u001b[1m\u001b[30mArrayList<\u001b[0m\u001b[1m\u001b[30m\u001b[41mdouble\u001b[0m\u001b[1m\u001b[30m> list = new ArrayList<double>();  // This will cause a compile-time error\u001b[0m",
      "\u001b[1m\u001b[31munexpected type\u001b[0m",
      "\u001b[1m\u001b[31m  required: reference\u001b[0m",
      "\u001b[1m\u001b[31m  found:    double\u001b[0m",
      "",
      "\u001b[1m\u001b[30m|   \u001b[1m\u001b[30mArrayList<double> list = new ArrayList<\u001b[0m\u001b[1m\u001b[30m\u001b[41mdouble\u001b[0m\u001b[1m\u001b[30m>();  // This will cause a compile-time error\u001b[0m",
      "\u001b[1m\u001b[31munexpected type\u001b[0m",
      "\u001b[1m\u001b[31m  required: reference\u001b[0m",
      "\u001b[1m\u001b[31m  found:    double\u001b[0m",
      ""
     ]
    }
   ],
   "source": [
    "ArrayList<double> list = new ArrayList<double>();  // This will cause a compile-time error"
   ]
  },
  {
   "cell_type": "markdown",
   "metadata": {},
   "source": [
    "Again, the ArrayList needs an object type, but we are passing a primitive type."
   ]
  },
  {
   "cell_type": "code",
   "execution_count": 6,
   "metadata": {},
   "outputs": [
    {
     "data": {
      "text/plain": [
       "true"
      ]
     },
     "execution_count": 6,
     "metadata": {},
     "output_type": "execute_result"
    }
   ],
   "source": [
    "ArrayList<Double> list = new ArrayList<Double>();\n",
    "list.add(3.14);  // Autoboxing will automatically convert the double 3.14 to a Double object"
   ]
  },
  {
   "cell_type": "markdown",
   "metadata": {},
   "source": [
    "This code works because the 3.14 is being converted by the list.add, since the list uses double objects. "
   ]
  },
  {
   "cell_type": "markdown",
   "metadata": {},
   "source": [
    "#### Autoboxing\n",
    "Autoboxing is when Java automatically changes a basic data type into its object form. The Java compiler does this for us. Think of it as putting the data into a box. Java can also unbox an object, which is the exact opposite of autoboxing. When an Integer object is assigned to a primitive int type, Java will automatically use the primitive int version of the number and assign it to the int variable."
   ]
  },
  {
   "cell_type": "code",
   "execution_count": 7,
   "metadata": {},
   "outputs": [],
   "source": [
    "// Boxing\n",
    "int a = 5;\n",
    "Integer b = a;"
   ]
  },
  {
   "cell_type": "code",
   "execution_count": 8,
   "metadata": {},
   "outputs": [],
   "source": [
    "// Unboxing\n",
    "Integer x = new Integer(10);\n",
    "int y = x;"
   ]
  },
  {
   "cell_type": "markdown",
   "metadata": {},
   "source": [
    "### 2.9 Using the Math Class\n",
    "\n",
    "Java has a built in math class called __Math__? It is a part of the java.lang class."
   ]
  },
  {
   "cell_type": "code",
   "execution_count": 16,
   "metadata": {},
   "outputs": [
    {
     "name": "stdout",
     "output_type": "stream",
     "text": [
      "5\n"
     ]
    }
   ],
   "source": [
    "System.out.println(Math.abs(-5)) // Absolute Value"
   ]
  },
  {
   "cell_type": "code",
   "execution_count": 15,
   "metadata": {},
   "outputs": [
    {
     "name": "stdout",
     "output_type": "stream",
     "text": [
      "25.0\n"
     ]
    }
   ],
   "source": [
    "System.out.println(Math.pow(5, 2)) // Power: base, exponent"
   ]
  },
  {
   "cell_type": "code",
   "execution_count": 14,
   "metadata": {},
   "outputs": [
    {
     "name": "stdout",
     "output_type": "stream",
     "text": [
      "5.0\n"
     ]
    },
    {
     "name": "stdout",
     "output_type": "stream",
     "text": [
      "5.0\n"
     ]
    }
   ],
   "source": [
    "// Two ways to calculate square roots\n",
    "System.out.println(Math.pow(25, 0.5)); // Allows for different roots\n",
    "System.out.println(Math.sqrt(25)) // Square Root"
   ]
  },
  {
   "cell_type": "markdown",
   "metadata": {},
   "source": [
    "Finally, arguably the most important class in math: The random class! Many purposes, especially in game development. What is one purpose? "
   ]
  },
  {
   "cell_type": "code",
   "execution_count": 20,
   "metadata": {},
   "outputs": [
    {
     "name": "stdout",
     "output_type": "stream",
     "text": [
      "0\n"
     ]
    }
   ],
   "source": [
    "System.out.println((int)Math.random()) // Always returns zero because the range of math.random is [0, 1)"
   ]
  },
  {
   "cell_type": "markdown",
   "metadata": {},
   "source": [
    "In the cell below, experiment and try to figure out a way to call Math.random and impliment bounds, with your bounds being integer bounds of a and b."
   ]
  },
  {
   "cell_type": "code",
   "execution_count": 10,
   "metadata": {},
   "outputs": [
    {
     "name": "stdout",
     "output_type": "stream",
     "text": [
      "26\n"
     ]
    }
   ],
   "source": [
    "// Intended Solution\n",
    "\n",
    "int a = 0;\n",
    "int b = 60;\n",
    "System.out.println((int)((double)Math.random() * (b-a) + a))"
   ]
  },
  {
   "cell_type": "markdown",
   "metadata": {},
   "source": [
    "# Hacks!\n",
    "Note: This is due __Monday__! Write your hacks in a Jupyter Notebook and then DM them to us over slack by Monday Morning at 8:00 AM. For full credit, all criteria in the hacks must be completed and show some originality. \n",
    "\n",
    "## Hack 1: (0.25)\n",
    "Create a void method that takes an integer input and adds it to an ArrayList. Then, add a non-void method that is able to call a certain index from the ArrayList.\n",
    "\n",
    "## Hack 2: (0.25)\n",
    "Create a simple guessing game with random numbers in math, except the random number is taken to a random exponent (also includes roots), and the person has to find out what the root and exponent is (with hints!). Use at least one static and one non-static method in your class.\n",
    "\n",
    "## Hack 3: (0.25)\n",
    "Create a class of your choosing that has multiple parameters of different types (int, boolean, String, double) and put 5 data values in that list. Show that you can access the information by givng some samples.\n",
    "\n",
    "\n",
    "## Hack 4: (0.25)\n",
    "Using your preliminary knowlege of loops, use a for loop to iterate through a person's first and last name, seperated by a space, and create methods to call a person's first name and a person's last name by iterating through the string.\n",
    "\n",
    "Total: 1/1"
   ]
  }
 ],
 "metadata": {
  "kernelspec": {
   "display_name": "Java",
   "language": "java",
   "name": "java"
  },
  "language_info": {
   "codemirror_mode": "java",
   "file_extension": ".jshell",
   "mimetype": "text/x-java-source",
   "name": "java",
   "pygments_lexer": "java",
   "version": "20.0.2+9-78"
  }
 },
 "nbformat": 4,
 "nbformat_minor": 2
}
