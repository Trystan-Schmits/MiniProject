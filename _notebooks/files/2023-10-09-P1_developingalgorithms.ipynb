{
 "cells": [
  {
   "cell_type": "markdown",
   "metadata": {},
   "source": [
    "---\n",
    "toc: true\n",
    "comments: true\n",
    "layout: post\n",
    "title: P1 Developing Algorithms\n",
    "description: Lesson for developing algorithms in Python\n",
    "type: collab\n",
    "author: Tarun, Tejas, Tanuj, Chris\n",
    "courses: { csp: {week: 9} }\n",
    "unit: 3\n",
    "---"
   ]
  },
  {
   "cell_type": "markdown",
   "metadata": {},
   "source": [
    "# Developing Algorithms\n",
    "\n",
    "\n",
    "## How to do simple operators in JS\n",
    "\n",
    "Use the \"+\" operator to add two numbers in JavaScript\n",
    "\n",
    "Use the \"-\" operator to subtract two numbers in JavaScript\n",
    "\n",
    "Use the \"*\" operator to multiply two numbers in JavaScript\n",
    "\n",
    "Use the \"/\" operator to divide two numbers in JavaScript\n",
    "\n",
    "Use the \"%\" operator to get the remainder of a division operation in JavaScript\n",
    "\n",
    "## Iterating\n",
    "\n",
    "Iteration is going through a set of laws or objectives for the loops to complete. This allows for the desired objective to be completed.\n",
    "\n",
    "## Randomization \n",
    "\n",
    "Raandomization is used to generate a random number. For example, RANDOM(a,b) would generate any number from a to b. Each result from randomization is equally likely to occur. Each execution might produce a different result.\n"
   ]
  },
  {
   "cell_type": "markdown",
   "metadata": {},
   "source": [
    "## Popcorn hack #1: How to find the mean in JS"
   ]
  },
  {
   "cell_type": "code",
   "execution_count": 21,
   "metadata": {
    "vscode": {
     "languageId": "javascript"
    }
   },
   "outputs": [
    {
     "data": {
      "application/javascript": "\nvar arry = [4,62,3,38];\n\nfunction calculateAverageOfArray(array) {\n    var total = 0;\n    var count = 0;\n\n    jQuery.each(arry, function(index, value) {\n        total += value;\n        count++;\n    });\n\n    return total / count;\n}\n\nconsole.log(\"The average of your list is \" + calculateAverageOfArray(arry));\n",
      "text/plain": [
       "<IPython.core.display.Javascript object>"
      ]
     },
     "metadata": {},
     "output_type": "display_data"
    }
   ],
   "source": [
    "%%js\n",
    "\n",
    "\n",
    "// define an array\n",
    "var arry = [4,62,3,38];\n",
    "// define a function to calculate the mean using an inputted array\n",
    "function calculateAverageOfArray(array) {\n",
    "    var total = 0;\n",
    "    var count = 0;\n",
    "// add all the values of the array\n",
    "    jQuery.each(arry, function(index, value) {\n",
    "        total += value;\n",
    "        count++;\n",
    "    });\n",
    "// take the sum of the array and divide it by the length of the array\n",
    "    return total / count;\n",
    "}\n",
    "\n",
    "console.log(\"The average of your list is \" + calculateAverageOfArray(arry));"
   ]
  },
  {
   "cell_type": "markdown",
   "metadata": {},
   "source": [
    "## How to calculate the median"
   ]
  },
  {
   "cell_type": "code",
   "execution_count": 2,
   "metadata": {
    "vscode": {
     "languageId": "javascript"
    }
   },
   "outputs": [
    {
     "data": {
      "application/javascript": "\n// define the function median that finds the median of an array numbers\nfunction median(numbers) {\n    // sort the list numbers\n    const sorted = Array.from(numbers).sort((a, b) => a - b);\n    \n    // find the index of the middle element in the array\n    const middle = Math.floor(sorted.length / 2);\n\n    // see if the array has an even length\n    if (sorted.length % 2 === 0) {\n        // if it's even then calculate the average of the middle two values\n        return (sorted[middle - 1] + sorted[middle]) / 2;\n    }\n\n    // if odd return the middle value\n    return sorted[middle];\n}\n\n// run median with the inputted array\nconsole.log(median([1, 3, 8,2,6]));\n",
      "text/plain": [
       "<IPython.core.display.Javascript object>"
      ]
     },
     "metadata": {},
     "output_type": "display_data"
    }
   ],
   "source": [
    "%%js\n",
    "\n",
    "// define the function median that finds the median of an array numbers\n",
    "function median(numbers) {\n",
    "    // sort the list numbers\n",
    "    const sorted = Array.from(numbers).sort((a, b) => a - b);\n",
    "    \n",
    "    // find the index of the middle element in the array\n",
    "    const middle = Math.floor(sorted.length / 2);\n",
    "\n",
    "    // see if the array has an even length\n",
    "    if (sorted.length % 2 === 0) {\n",
    "        // if it's even then calculate the average of the middle two values\n",
    "        return (sorted[middle - 1] + sorted[middle]) / 2;\n",
    "    }\n",
    "\n",
    "    // if odd return the middle value\n",
    "    return sorted[middle];\n",
    "}\n",
    "\n",
    "// run median with the inputted array\n",
    "console.log(median([1, 3, 8, 2, 6]));\n"
   ]
  },
  {
   "cell_type": "markdown",
   "metadata": {},
   "source": [
    "## How to calculate the mode in JS"
   ]
  },
  {
   "cell_type": "code",
   "execution_count": 3,
   "metadata": {
    "vscode": {
     "languageId": "javascript"
    }
   },
   "outputs": [
    {
     "data": {
      "application/javascript": "\n\n// Create a function that finds the mode of an array\nvar mode = function mode(arr) {\n    // use the function \"reduce\" to go through every item in the list while collecting the data\n    return arr.reduce(function(current, item) {\n        // update the variable \"val\" with the frequency of \"item\" and increase it by 1.\n        var val = current.numMapping[item] = (current.numMapping[item] || 0) + 1;\n        \n        // check if the mode of \"item\" is greater than the greatest mode so far\n        if (val > current.greatestFreq) {\n            // if it is then update the mode\n            current.mode = item;\n            current.greatestFreq = val;\n        }\n        \n        // return the updated value of \"current\" then repeat the process\n        return current;\n    }, {mode: null, greatestFreq: -Infinity, numMapping: {}}).mode;\n};\n\n// run the mode function with an inputted array and print it to the console\nconsole.log(mode([6, 6, 7, 7, 7, 8, 8, 8, 8, 8, 9, 10,7,7,7,7,7,7,7,7]));\n",
      "text/plain": [
       "<IPython.core.display.Javascript object>"
      ]
     },
     "metadata": {},
     "output_type": "display_data"
    }
   ],
   "source": [
    "%%js\n",
    "\n",
    "\n",
    "// Create a function that finds the mode of an array\n",
    "var mode = function mode(arr) {\n",
    "    // use the function \"reduce\" to go through every item in the list while collecting the data\n",
    "    return arr.reduce(function(current, item) {\n",
    "        // update the variable \"val\" with the frequency of \"item\" and increase it by 1.\n",
    "        var val = current.numMapping[item] = (current.numMapping[item] || 0) + 1;\n",
    "        \n",
    "        // check if the mode of \"item\" is greater than the greatest mode so far\n",
    "        if (val > current.greatestFreq) {\n",
    "            // if it is then update the mode\n",
    "            current.mode = item;\n",
    "            current.greatestFreq = val;\n",
    "        }\n",
    "        \n",
    "        // return the updated value of \"current\" then repeat the process\n",
    "        return current;\n",
    "    }, {mode: null, greatestFreq: -Infinity, numMapping: {}}).mode;\n",
    "};\n",
    "\n",
    "// run the mode function with an inputted array and print it to the console\n",
    "console.log(mode([6, 6, 7, 7, 7, 8, 8, 8, 8, 8, 9, 10,7,7,7,7,7,7,7,7]));\n"
   ]
  },
  {
   "cell_type": "markdown",
   "metadata": {},
   "source": [
    "## One way to sort a list"
   ]
  },
  {
   "cell_type": "code",
   "execution_count": 4,
   "metadata": {},
   "outputs": [
    {
     "name": "stdout",
     "output_type": "stream",
     "text": [
      "[2, 2, 6, 32, 43, 96]\n"
     ]
    }
   ],
   "source": [
    "\n",
    "\n",
    "numList = [43, 2, 6, 2, 96, 32]\n",
    "numList.sort()\n",
    "print(numList)"
   ]
  },
  {
   "cell_type": "markdown",
   "metadata": {},
   "source": [
    "## Another way to sort a list"
   ]
  },
  {
   "cell_type": "code",
   "execution_count": 5,
   "metadata": {},
   "outputs": [
    {
     "name": "stdout",
     "output_type": "stream",
     "text": [
      "Sorted array is:\n",
      "11 12 22 25 34 64 90 "
     ]
    }
   ],
   "source": [
    "def bubbleSort(arr):\n",
    "    n = len(arr)\n",
    "    swapped = False  # a boolean to keep track of whether a swap has occurred.\n",
    "    for i in range(n-1):  # a loop to go iterate through the entire array\n",
    "        for j in range(0, n-i-1):  # loop to compare adjacent elements\n",
    "            if arr[j] > arr[j + 1]:\n",
    "                # if current element is greater than the next element then swap them\n",
    "                swapped = True\n",
    "                arr[j], arr[j + 1] = arr[j + 1], arr[j]\n",
    "        if not swapped:\n",
    "            # if no swaps happen then the array is sorted\n",
    "            return\n",
    "arr = [64, 34, 25, 12, 22, 11, 90]\n",
    "bubbleSort(arr)  # call the function to sort the array\n",
    "print(\"Sorted array is:\")\n",
    "for i in range(len(arr)):\n",
    "    print(\"%d\" % arr[i], end=\" \")"
   ]
  },
  {
   "cell_type": "markdown",
   "metadata": {},
   "source": [
    "## What does this code do?"
   ]
  },
  {
   "cell_type": "code",
   "execution_count": null,
   "metadata": {},
   "outputs": [],
   "source": [
    "import random\n",
    "\n",
    "\n",
    "randomNumber = random.randint(1, 100)\n",
    "\n",
    "attempts = 0\n",
    "\n",
    "\n",
    "def startGame():\n",
    "    print(\"Welcome to the Number Guessing Game!\")\n",
    "    print(\"I'm thinking of a number between 1 and 100.\")\n",
    "    print(\"Try to guess the number.\")\n",
    "\n",
    "    askForGuess()\n",
    "\n",
    "\n",
    "def askForGuess():\n",
    "    input_str = input(\"Enter your guess (between 1 and 100): \")\n",
    "    try:\n",
    "        guessedNumber = int(input_str)\n",
    "        checkGuess(guessedNumber)\n",
    "    except ValueError:\n",
    "        print(\"Please enter a valid number.\")\n",
    "        askForGuess()\n",
    "\n",
    "\n",
    "def checkGuess(guess):\n",
    "    global attempts\n",
    "    if guess < randomNumber:\n",
    "        \n",
    "        print(\"Try a higher number.\")\n",
    "        attempts += 1\n",
    "        askForGuess()\n",
    "    elif guess > randomNumber:\n",
    "        \n",
    "        print(\"Try a lower number.\")\n",
    "        attempts += 1\n",
    "        askForGuess()\n",
    "    else:\n",
    "        \n",
    "        attempts += 1\n",
    "        print(f\"Congratulations! You guessed the number {randomNumber} in {attempts} attempts.\")\n",
    "startGame()\n"
   ]
  },
  {
   "cell_type": "markdown",
   "metadata": {},
   "source": [
    "## Homework Hacks: \n",
    "\n",
    "* Find the median test grade of a class\n",
    "* Create a simple game using random numbers"
   ]
  }
 ],
 "metadata": {
  "kernelspec": {
   "display_name": "Python 3",
   "language": "python",
   "name": "python3"
  },
  "language_info": {
   "codemirror_mode": {
    "name": "ipython",
    "version": 3
   },
   "file_extension": ".py",
   "mimetype": "text/x-python",
   "name": "python",
   "nbconvert_exporter": "python",
   "pygments_lexer": "ipython3",
   "version": "3.11.5"
  },
  "orig_nbformat": 4
 },
 "nbformat": 4,
 "nbformat_minor": 2
}
