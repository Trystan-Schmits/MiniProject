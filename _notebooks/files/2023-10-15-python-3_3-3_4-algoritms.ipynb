{
 "cells": [
  {
   "cell_type": "markdown",
   "metadata": {},
   "source": [
    "---\n",
    "comments: true\n",
    "layout: post\n",
    "title: CB 3.3,3.4 Algorithms\n",
    "description: Student Lesson\n",
    "courses: { csp: {week: 7} }\n",
    "type: ccc\n",
    "---"
   ]
  },
  {
   "cell_type": "markdown",
   "metadata": {},
   "source": [
    "## An algorithm is a finite set of instructions to solve a problem\n",
    "Build a lesson in Python to show how an algoritm is made in code. Be sure to break down algorithm into code parts that include sequencing, selection, and iteration.  We are looking for something fun and creative.\n",
    "- Review key college board materials\n",
    "- Provide and overview of a Python Algoritm versus College Board Pseudo Code\n",
    "- Discuss College Board Robot MCQ problems, left-right-up-down problems\n",
    "- Cover Math Operations and provide some Math Algoritms (ie Fibonacci, Factorial, ...)\n",
    "- Cover String Operations and Concatenation with Alogorithms (ie Palindrome)\n",
    "- Provide Popcorn Hacks and Homework Hacks"
   ]
  }
 ],
 "metadata": {
  "language_info": {
   "name": "python"
  },
  "orig_nbformat": 4
 },
 "nbformat": 4,
 "nbformat_minor": 2
}
