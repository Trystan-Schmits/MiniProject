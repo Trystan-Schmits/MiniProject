{
 "cells": [
  {
   "cell_type": "markdown",
   "metadata": {},
   "source": [
    "---\n",
    "comments: true\n",
    "layout: post\n",
    "title: CB 3.3,3.4 Boolean If\n",
    "description: Student Lesson\n",
    "courses: { csp: {week: 8} }\n",
    "type: ccc\n",
    "---"
   ]
  },
  {
   "cell_type": "markdown",
   "metadata": {},
   "source": [
    "## If statements and logical operations branch code\n",
    "Build a lesson in Python to shows logic gates.  Try to be creative, Teacher has some code that supports logic gates in archives or reference [Geeks](https://www.geeksforgeeks.org/logic-gates-in-python/#).  Try to be creative and make this interesting.\n",
    "- Review key college board materials\n",
    "- Provide and overview of a Python If statement with expression versus College Board Pseudo Code\n",
    "- Cover all Python Logical Operations (AND, OR, NOT, NAND, NOR, XOR)\n",
    "- Introduce De Morgan’s Law which should be great for Hacks\n",
    "- Provide Popcorn Hacks and Homework Hacks"
   ]
  }
 ],
 "metadata": {
  "language_info": {
   "name": "python"
  },
  "orig_nbformat": 4
 },
 "nbformat": 4,
 "nbformat_minor": 2
}
