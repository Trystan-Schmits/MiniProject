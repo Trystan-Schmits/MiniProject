{
 "cells": [
  {
   "cell_type": "markdown",
   "metadata": {},
   "source": [
    "---\n",
    "comments: true\n",
    "layout: post\n",
    "title: CB 3.12,3.13 Developing Procedures\n",
    "description: Student Lesson\n",
    "courses: { csp: {week: 10} }\n",
    "type: ccc\n",
    "---"
   ]
  },
  {
   "cell_type": "markdown",
   "metadata": {},
   "source": [
    "## Developing Procedures\n",
    "Create an anatomomy of Python Procedures and Python Classes.\n",
    "- Review key college board materials\n",
    "- Procedure Name - (ie Calculate Pay Check)\n",
    "- Procedure Parameters\n",
    "- Procedure Algorithm\n",
    "- Procedure Return Values\n",
    "- Write statements to call procedure\n",
    "- Compare Python Procedure anatomy with College Board Pseudo Code\n",
    "- Class Name - (ie Car Class)\n",
    "- Class Data\n",
    "- Class Constructor\n",
    "- Class Methods (Setters and Getters)\n",
    "- Wrtie statements to create Object from Class Constructor\n",
    "- Write satements to call methods of an Object\n",
    "- Compare Python Procedure and Python Class\n",
    "- Provide Popcorn Hacks and Homework Hacks"
   ]
  }
 ],
 "metadata": {
  "language_info": {
   "name": "python"
  },
  "orig_nbformat": 4
 },
 "nbformat": 4,
 "nbformat_minor": 2
}
