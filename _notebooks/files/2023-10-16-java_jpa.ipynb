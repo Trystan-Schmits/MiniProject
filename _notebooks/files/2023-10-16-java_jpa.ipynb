{
 "cells": [
  {
   "cell_type": "markdown",
   "metadata": {},
   "source": [
    "---\n",
    "comments: true\n",
    "layout: post\n",
    "title: JPA\n",
    "description: How to use the JPA repository and create your own query methods\n",
    "courses: { csa: {week: 6} }\n",
    "type: ccc\n",
    "---"
   ]
  },
  {
   "cell_type": "markdown",
   "metadata": {},
   "source": [
    "# What is JPA?\n",
    "\n",
    "JPA, which stands for Java Persistence API, is a specification for persisting data with Java objects. (Persistence means that the object is stored in a database). JPA has multiple implementations, the most popular being Hibernate. Hibernate is an ORM tool. ORM, or Object Relational Mapping, maps a Java object to a database. This allows us to do CRUD operations (create, read, update, and delete data) on the object.\n",
    "\n",
    "Note that Spring Data JPA and JPA are two different things. Spring Data JPA abstracts JPA. It reduces the amount of boilerplate code that programmers have to write by providing repositories for CRUD operations. This means that SQL knowledge isn't required to work with Spring Boot. However, knowing SQL can help you perform more powerful queries. \n",
    "\n",
    "Below is a helpful visualization of the relationship between JPA, Spring Data JPA, Hibernate, and ORM (credit to Amigoscode):\n",
    "\n",
    "![]({{ site.baseurl }}/images/jpa-lesson-images/jpa.jpg)"
   ]
  },
  {
   "cell_type": "markdown",
   "metadata": {},
   "source": [
    "<br>\n",
    "\n",
    "# Setup"
   ]
  },
  {
   "cell_type": "markdown",
   "metadata": {},
   "source": [
    "Within the mvc folder in spring_portfolio, create a new folder and give it a name. The new folder will hold the POJO (entity class), API controller, and JPA repository. You can name the files anything, but the convention for JPA repository is to include `JpaRepository` or `Repository` within the name. In this example, the JPA repository file is named `UserJpaRepository.java`.\n",
    "\n",
    "![]({{ site.baseurl }}/images/jpa-lesson-images/userJpaRepositoryFile.jpg)"
   ]
  },
  {
   "cell_type": "markdown",
   "metadata": {},
   "source": [
    "This blog will use a user database as an example. For reference, this is what the User POJO (`User.java`) looks like. Attributes of the user include the user's email, password, and name. Note that there are lots of annotations (the lines that start with a `@`) that can add more features to the attributes. "
   ]
  },
  {
   "cell_type": "code",
   "execution_count": null,
   "metadata": {
    "vscode": {
     "languageId": "java"
    }
   },
   "outputs": [],
   "source": [
    "@Data\n",
    "@AllArgsConstructor\n",
    "@NoArgsConstructor\n",
    "@Entity\n",
    "public class User {\n",
    "    @Id\n",
    "    @GeneratedValue(strategy = GenerationType.AUTO)\n",
    "    private Long id;\n",
    "\n",
    "    private String email;\n",
    "\n",
    "    private String password;\n",
    "   \n",
    "    private String firstName;\n",
    "\n",
    "    private String lastName;\n",
    "\n",
    "}"
   ]
  },
  {
   "cell_type": "markdown",
   "metadata": {},
   "source": [
    "This is what the user table looks like:\n",
    "\n",
    "![]({{ site.baseurl }}/images/jpa-lesson-images/userTable.jpg)"
   ]
  },
  {
   "cell_type": "markdown",
   "metadata": {},
   "source": [
    "<br>\n",
    "\n",
    "There are many ways to perform CRUD operations in Spring. This blog will cover derived queries, JPQL, and native queries. \n",
    "\n",
    "# Derived Queries"
   ]
  },
  {
   "cell_type": "markdown",
   "metadata": {},
   "source": [
    "Derived queries are simple methods such as `findBy`, `readBy`, `getBy`, etc. Spring Data translates the derived queries into the JPQL (Java Persistence Query Language) query (which is then translated into SQL), making things easier for you. \n",
    "\n",
    "To create derived queries, open the JPA repository file. The file looks similar to this:"
   ]
  },
  {
   "cell_type": "code",
   "execution_count": null,
   "metadata": {
    "vscode": {
     "languageId": "java"
    }
   },
   "outputs": [],
   "source": [
    "public interface UserJpaRepository extends JpaRepository<User, Long> {\n",
    "}"
   ]
  },
  {
   "cell_type": "markdown",
   "metadata": {},
   "source": [
    "One thing to note is that the generic (ex: `<User, Long>`) takes in two type parameters. The first is the entity type (the name of the POJO class), in this case, `User`. The second is the type of the ID found in the POJO (since ID was declared as `private Long id;` in `User.java`, the second type parameter is `Long`)."
   ]
  },
  {
   "cell_type": "markdown",
   "metadata": {},
   "source": [
    "You can create derived queries within the interface. Let's say we want to obtain a list of users based on their last name. The `findBy` method can be used to achieve this:"
   ]
  },
  {
   "cell_type": "code",
   "execution_count": null,
   "metadata": {
    "vscode": {
     "languageId": "java"
    }
   },
   "outputs": [],
   "source": [
    "public interface UserJpaRepository extends JpaRepository<User, Long> {\n",
    "    List<User> findByLastName(String lastName);\n",
    "}"
   ]
  },
  {
   "cell_type": "markdown",
   "metadata": {},
   "source": [
    "`findBy<Attribute>` finds the column in the table that is associated with the attribute. For example, when Spring sees `findByLastName`, it will look at the column that is associated with `LastName`. Note that SQL tables and Java have different naming conventions. When declaring a variable in Java, an uppercase letter is used to symbolize a space (ex: `lastName` for last name). In an SQL table's column names, spaces are separated by a \"_\". \n",
    "\n",
    "For example, the user table's column has `first_name` and `last_name`, not `firstName` and `lastName`. This difference is important to note, an example of this will be covered later. \n",
    "\n",
    "![]({{ site.baseurl }}/images/jpa-lesson-images/columnName.jpg)\n",
    "\n",
    "<br>\n",
    "\n",
    "Additionally, the return type of the method is `List<User>`. This is because there can be multiple User objects that have the last name we are looking for, so a list of users needs to be returned. \n",
    "\n",
    "`findByLastName` tells Spring to look at the `last_name` column in the user database. Spring will then return the users that have the requested last name in a list. Something to note here is that the first letter of the attribute in the `findBy` method is capitalized. In this case, the \"l\" in `findByLastName` is capitalized. This tells Spring to look for the column name associated with the attribute `lastName`. The Spring Data JPA [documentation](https://docs.spring.io/spring-data/jpa/docs/current/reference/html/#repositories.query-methods.query-property-expressions) provides an interesting read on how Spring determines the attribute from the query method. \n",
    "\n",
    "Lastly, `(String lastName)` takes in a last name as an input. "
   ]
  },
  {
   "cell_type": "markdown",
   "metadata": {},
   "source": [
    "`findByLastName(String lastName)` can be tested with an API Controller.\n",
    "\n",
    "The API Controller class (`UserApiController.java`) looks like this:"
   ]
  },
  {
   "cell_type": "code",
   "execution_count": null,
   "metadata": {
    "vscode": {
     "languageId": "java"
    }
   },
   "outputs": [],
   "source": [
    "@RestController\n",
    "@RequestMapping(\"/api/users\")\n",
    "public class UserApiController {\n",
    "\n",
    "    @Autowired\n",
    "    private UserJpaRepository userRepo; \n",
    "    \n",
    "\n",
    "    @GetMapping(\"/search\")\n",
    "    public ResponseEntity<List<User>> search() {\n",
    "        return new ResponseEntity<>(userRepo.findByLastName(\"Van Pelt\"), HttpStatus.OK);\n",
    "    }\n",
    "\n",
    "    \n",
    "}"
   ]
  },
  {
   "cell_type": "markdown",
   "metadata": {},
   "source": [
    "The first thing we want to do in the API Controller class is to autowire the JPA repository:\n",
    "\n",
    "```java\n",
    "@Autowired\n",
    "private UserJpaRepository userRepo; \n",
    "```\n",
    "\n",
    "Autowire does dependency injection, which means it injects beans into the class it's in. This is a long and interesting topic that I may write another blog post about when I have time. In simplified terms, Autowire has Spring instantiate objects so that programmers don't need to do it themselves.\n",
    "\n",
    "Afterwards, create an endpoint that returns the User objects with a last name of \"Van Pelt\" in JSON. Here, the `findByLastName` method (which was defined in the JPA repository) is called, with an input of \"Van Pelt\" as the last name. When a GET request is sent to the endpoint, Spring will search the user table for users that have a last name of \"Van Pelt\". \n",
    "\n",
    "```java\n",
    "return new ResponseEntity<>(userRepo.findByLastName(\"Van Pelt\"), HttpStatus.OK);\n",
    "```\n",
    "\n",
    "Accessing the endpoint on Postman returns the two users who have a last name of \"Van Pelt\":\n",
    "\n",
    "![]({{ site.baseurl }}/images/jpa-lesson-images/postman.jpg)"
   ]
  },
  {
   "cell_type": "markdown",
   "metadata": {},
   "source": [
    "<br>\n",
    "\n",
    "## Other query methods"
   ]
  },
  {
   "cell_type": "markdown",
   "metadata": {},
   "source": [
    "* <code>List<<em>entity class</em>> findBy<em>Attribute</em>Containing(String a);</code>: Returns a list of objects whose attribute has a substring that matches the input's string\n",
    "\n",
    "* <code>List<<em>entity class</em>> findBy<em>Attribute</em>NotNull();</code>: Returns a list of objects whose attribute is not null"
   ]
  },
  {
   "cell_type": "markdown",
   "metadata": {},
   "source": [
    "<br>\n",
    "\n",
    "### Example\n",
    "\n",
    "#### JPA repository"
   ]
  },
  {
   "cell_type": "code",
   "execution_count": null,
   "metadata": {
    "vscode": {
     "languageId": "java"
    }
   },
   "outputs": [],
   "source": [
    "public interface UserJpaRepository extends JpaRepository<User, Long> {\n",
    "    List<User> findByLastName(String lastName);\n",
    "    \n",
    "    List<User> findByFirstNameContaining(String letters);\n",
    "    \n",
    "    List<User> findByLastNameNotNull();\n",
    "}"
   ]
  },
  {
   "cell_type": "markdown",
   "metadata": {},
   "source": [
    "#### API Controller"
   ]
  },
  {
   "cell_type": "code",
   "execution_count": null,
   "metadata": {
    "vscode": {
     "languageId": "java"
    }
   },
   "outputs": [],
   "source": [
    "@RestController\n",
    "@RequestMapping(\"/api/users\")\n",
    "public class UserApiController {\n",
    "\n",
    "    @Autowired\n",
    "    private UserJpaRepository userRepo; \n",
    "    \n",
    "\n",
    "    @GetMapping(\"/search\")\n",
    "    public ResponseEntity<List<User>> search() {\n",
    "        return new ResponseEntity<>(userRepo.findByLastName(\"Van Pelt\"), HttpStatus.OK);\n",
    "    }\n",
    "\n",
    "\n",
    "    @GetMapping(\"/partial\")\n",
    "    public ResponseEntity<List<User>> partial() {\n",
    "        return new ResponseEntity<>(userRepo.findByFirstNameContaining(\"oo\"), HttpStatus.OK);\n",
    "    }\n",
    "\n",
    "    @GetMapping(\"/haslastname\")\n",
    "    public ResponseEntity<List<User>> hasLastName() {\n",
    "        return new ResponseEntity<>(userRepo.findByLastNameNotNull(), HttpStatus.OK);\n",
    "    }\n",
    "\n",
    "    \n",
    "}"
   ]
  },
  {
   "cell_type": "markdown",
   "metadata": {},
   "source": [
    "In this example, `findByFirstNameContaining` outputs users whose first name contains the substring \"oo\":\n",
    "\n",
    "![]({{ site.baseurl }}/images/jpa-lesson-images/partial.jpg)\n",
    "\n",
    "In this example, `findByLastNameNotNull` outputs users who have a last name:\n",
    "\n",
    "![]({{ site.baseurl }}/images/jpa-lesson-images/haslastname.jpg)"
   ]
  },
  {
   "cell_type": "markdown",
   "metadata": {},
   "source": [
    "<br>\n",
    "\n",
    "# JPQL Query\n",
    "\n",
    "Sometimes simply creating methods using derived queries is not enough. JPQL is more flexible in that it provides a query language that looks similar to SQL. One important thing to note is that JPQL is based on entities, so JPQL queries are based on classes and attributes. JPQL queries are not based on the database tables, which makes it different from SQL. The database, however, still uses SQL. JPA implementations like Hibernate translate the JPQL query into SQL to work with the database."
   ]
  },
  {
   "cell_type": "markdown",
   "metadata": {},
   "source": [
    "Here's an example of a JPQL query that does the same thing as `findByLastName()`."
   ]
  },
  {
   "cell_type": "code",
   "execution_count": null,
   "metadata": {
    "vscode": {
     "languageId": "java"
    }
   },
   "outputs": [],
   "source": [
    "@Query(\"SELECT u FROM User u where u.lastName = ?1\")\n",
    "List<User> findByLastNameQuery(String lastName);"
   ]
  },
  {
   "cell_type": "markdown",
   "metadata": {},
   "source": [
    "First, use the `@Query` annotation, and then define the query in JPQL. In this example, the query selects the User entity and finds the user objects where the user's last name matches the input. Additionally, the `u` in the query is an alias for the `User` class. You can think of it as a variable that refers to the `User` class. This alias makes it quicker when referring to `User` in the query. The alias can be anything. For instance, \"SELECT a FROM User a where a.lastName = ?1\" would also work. \n",
    "\n",
    "Next, add the method declaration after the annotation. You can name the method name (ex: `findByLastNameQuery`) anything."
   ]
  },
  {
   "cell_type": "markdown",
   "metadata": {},
   "source": [
    "## Positional parameters and named parameters\n",
    "\n",
    "In the query `SELECT u FROM User u where u.lastName = ?1\"`, `?1` is a positional parameter. This means that `?1` will correspond to the 1st parameter in the method (ex: `lastName`). So when `findByLastNameQuery(\"Van Pelt\")` is called, the query becomes `SELECT u FROM User u where u.lastName = 'Van Pelt'`.\n",
    "\n",
    "You can have multiple positional parameters in the query. Here is an example of searching for a user based on both first and last name:\n",
    "\n",
    "JPA repository:\n"
   ]
  },
  {
   "cell_type": "code",
   "execution_count": null,
   "metadata": {
    "vscode": {
     "languageId": "java"
    }
   },
   "outputs": [],
   "source": [
    "@Query(\"SELECT u FROM User u where u.lastName = ?1 and u.firstName = ?2\")\n",
    "List<User> findByName(String lastName, String firstName);"
   ]
  },
  {
   "cell_type": "markdown",
   "metadata": {},
   "source": [
    "API Controller:"
   ]
  },
  {
   "cell_type": "code",
   "execution_count": null,
   "metadata": {
    "vscode": {
     "languageId": "java"
    }
   },
   "outputs": [],
   "source": [
    "@GetMapping(\"/search\")\n",
    "public ResponseEntity<List<User>> search() {\n",
    "    return new ResponseEntity<>(userRepo.findByName(\"Brown\", \"Charlie\"), HttpStatus.OK);\n",
    "}"
   ]
  },
  {
   "cell_type": "markdown",
   "metadata": {},
   "source": [
    "Endpoint:\n",
    "\n",
    "![]({{ site.baseurl }}/images/jpa-lesson-images/search2.jpg)"
   ]
  },
  {
   "cell_type": "markdown",
   "metadata": {},
   "source": [
    "<br>\n",
    "\n",
    "You could also assign names instead of numbers to the parameters. Below is an example of using named parameters:"
   ]
  },
  {
   "cell_type": "code",
   "execution_count": null,
   "metadata": {
    "vscode": {
     "languageId": "java"
    }
   },
   "outputs": [],
   "source": [
    "@Query(\"SELECT u FROM User u where u.lastName = :last and u.firstName = :first\")\n",
    "List<User> findByName(@Param(\"last\") String lastName, @Param(\"first\") String firstName);"
   ]
  },
  {
   "cell_type": "markdown",
   "metadata": {},
   "source": [
    "Replace `?1` and `?2` with `:<parameter name>`, and refer to them in the method with `@Param(\"<parameter name>\")`. "
   ]
  },
  {
   "cell_type": "markdown",
   "metadata": {},
   "source": [
    "<br>\n",
    "\n",
    "# Native Queries\n",
    "\n",
    "While JPQL provides more flexibility than derived queries, it doesn't have all of the features of SQL. Native queries allows the programmer to execute SQL queries. The syntax of a native query is similar to a JPQL query: "
   ]
  },
  {
   "cell_type": "code",
   "execution_count": null,
   "metadata": {
    "vscode": {
     "languageId": "java"
    }
   },
   "outputs": [],
   "source": [
    "@Query(\n",
    "    value = \"SELECT email FROM user\",\n",
    "    nativeQuery = true\n",
    ")\n",
    "List<String> findEmail();"
   ]
  },
  {
   "cell_type": "markdown",
   "metadata": {},
   "source": [
    "In this example, the SQL query is `\"SELECT email FROM user\"`, which returns all of the emails from the `email` column in the database. One thing to note is that unlike JPQL, which is based on the entity class, native queries are based on the database. Therefore, native queries should use names from the database and table columns. "
   ]
  },
  {
   "cell_type": "markdown",
   "metadata": {},
   "source": [
    "Accessing the endpoint returns a list of email strings:\n",
    "\n",
    "![]({{ site.baseurl }}/images/jpa-lesson-images/email.jpg)"
   ]
  },
  {
   "cell_type": "markdown",
   "metadata": {},
   "source": [
    "<br>\n",
    "\n",
    "# Troubleshooting\n",
    "\n",
    "While coding in Spring Boot, it is very likely that at some point you'll encounter errors that'll prevent you from being able to run your backend framework. While coding in Spring for this blog, I encountered many error messages. This is what I do to resolve these errors:\n",
    "\n",
    "1. Make sure the terminal window is long enough to view the entire error message. Usually, the most important error message is at the beginning, so you'll want to be able to scroll to the beginning of the message. One of the error messages I encountered while coding looked like this:\n",
    "\n",
    "    ![]({{ site.baseurl }}/images/jpa-lesson-images/walloftext.jpg)\n",
    "\n",
    "    The error message was so long that it couldn't fit in my terminal, so I couldn't see the top part of the error message. I pasted the error message that occurred towards the middle of the output (similar to the the message next to the blue text in the picture) and spent a lot of time trying to figure out what was going on. I couldn't find anything to help me fix the problem, and that was because I was searching for the wrong error. \n",
    "\n",
    "    In order to see the beginning of the output, it helps to expand your terminal. The \"Spring\" banner is very helpful in marking where the error message starts.\n",
    "\n",
    "    ![]({{ site.baseurl }}/images/jpa-lesson-images/largeterminal.jpg)\n",
    "\n",
    "2. Copy the error and paste it into Google. ChatGPT is also a helpful tool, but it's best to verify it by Googling. I've asked ChatGPT to explain some Spring Boot concepts, but found that ChatGPT provided some wrong information after double checking with Google. \n",
    "\n",
    "3. Research. Look at StackOverflow posts where people have had similar errors. Usually, you'll learn something new after discovering how to fix the bug. For instance, while researching the error I had, I learned that derived queries were an abstraction for JPQL queries, and I learned about Hibernate and ORM. Researching about JPQL also helped me understand more about SQL. Troubleshooting can be time consuming and requires patience, but the deeper understanding gained after figuring out the solution makes the amount of time spent into it worth it.\n"
   ]
  }
 ],
 "metadata": {
  "language_info": {
   "name": "python"
  },
  "orig_nbformat": 4
 },
 "nbformat": 4,
 "nbformat_minor": 2
}
