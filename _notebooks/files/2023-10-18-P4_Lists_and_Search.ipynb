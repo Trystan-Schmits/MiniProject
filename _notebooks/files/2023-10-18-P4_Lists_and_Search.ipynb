{
 "cells": [
  {
   "cell_type": "markdown",
   "metadata": {},
   "source": [
    "---\n",
    "toc: true\n",
    "comments: true\n",
    "layout: post\n",
    "title: P4 Lists and search\n",
    "description: Lesson for developing algorithms in Python\n",
    "type: collab\n",
    "author: Tanvi, Anagha, Drishya, Miheer\n",
    "courses: { csp: {week: 9} }\n",
    "unit: 3\n",
    "---"
   ]
  },
  {
   "cell_type": "markdown",
   "metadata": {},
   "source": [
    "## 3.10-3.11 Lists and Searches"
   ]
  },
  {
   "cell_type": "markdown",
   "metadata": {},
   "source": [
    "## Basic Operations"
   ]
  },
  {
   "cell_type": "code",
   "execution_count": 25,
   "metadata": {},
   "outputs": [
    {
     "name": "stdout",
     "output_type": "stream",
     "text": [
      "4\n",
      "6\n",
      "4\n",
      "10\n",
      "[1, 4, 2, 10, 6, 7, 4, 5]\n",
      "[1, 4, 10, 6, 7, 4, 5]\n",
      "7\n"
     ]
    }
   ],
   "source": [
    "#Defining the List\n",
    "aList= [1,4,2,6,7,3,]\n",
    "# Accessing Elements in a list\n",
    "print(aList[1])\n",
    "\n",
    "\n",
    "#Storing Element at an Index to a variable\n",
    "Element = aList[3]\n",
    "print(Element)\n",
    "\n",
    "\n",
    "#Setting an Element at an Index to a variable\n",
    "element = 4\n",
    "aList[5]= element\n",
    "print(aList[5])\n",
    "\n",
    "#Insert a value at a certain index\n",
    "aList.insert(3, 10)\n",
    "print(aList[3])\n",
    "\n",
    "#Adding another value to the list (append)\n",
    "aList.append(5)\n",
    "print(aList)\n",
    "\n",
    "#Removing a value from the List at a specific Index\n",
    "aList.remove(2)\n",
    "print(aList)\n",
    "\n",
    "#Accessing the Length of a list\n",
    "print(len(aList))\n",
    "\n"
   ]
  },
  {
   "cell_type": "markdown",
   "metadata": {},
   "source": [
    "## PopCorn hack #1\n",
    "\n",
    "- Create and define your own list and insert a value at a certain index"
   ]
  },
  {
   "cell_type": "code",
   "execution_count": null,
   "metadata": {},
   "outputs": [],
   "source": [
    "#Enter code here"
   ]
  },
  {
   "cell_type": "markdown",
   "metadata": {},
   "source": [
    "## Finding the Minimum Value in a List\n"
   ]
  },
  {
   "cell_type": "code",
   "execution_count": 14,
   "metadata": {},
   "outputs": [
    {
     "name": "stdout",
     "output_type": "stream",
     "text": [
      "25\n"
     ]
    }
   ],
   "source": [
    "nums = [30, 45, 95, 56, 73, 98, 25]\n",
    "min_value = nums[4]  # Start with the first element as the minimum\n",
    "\n",
    "for score in nums:\n",
    "    if score < min_value:\n",
    "            min_value = score\n",
    "\n",
    "\n",
    "print(min_value)  # Display the minimum value\n"
   ]
  },
  {
   "cell_type": "markdown",
   "metadata": {},
   "source": [
    "## PopCorn hack #2\n",
    "\n",
    "- Using the code above try to find the maximum value in the list"
   ]
  },
  {
   "cell_type": "code",
   "execution_count": null,
   "metadata": {},
   "outputs": [],
   "source": [
    "#Enter Code here"
   ]
  },
  {
   "cell_type": "markdown",
   "metadata": {},
   "source": [
    "## Sum of Even Numbers in a list solution\n"
   ]
  },
  {
   "cell_type": "code",
   "execution_count": 31,
   "metadata": {},
   "outputs": [
    {
     "name": "stdout",
     "output_type": "stream",
     "text": [
      "32\n"
     ]
    }
   ],
   "source": [
    "#Defining numbers in list\n",
    "nums = [7, 5, 10, 6, 9, 4, 3, 12]\n",
    "sum_even = sum([score for score in nums if score % 2 == 0])  #Using for loop to work through each number in the list and using mod to interpret if any numbers have a remainder of 0\n",
    "print(sum_even)"
   ]
  },
  {
   "cell_type": "markdown",
   "metadata": {},
   "source": [
    "## Determining Outputs for code Segments with Length function\n"
   ]
  },
  {
   "cell_type": "code",
   "execution_count": 30,
   "metadata": {},
   "outputs": [
    {
     "name": "stdout",
     "output_type": "stream",
     "text": [
      "['computer', 'science', 'potato']\n"
     ]
    }
   ],
   "source": [
    "#Defining the list\n",
    "words = ['old', 'computer', 'science', 'far', 'potato']\n",
    "new_words = []\n",
    "for word in words:\n",
    "    if len(word) != 3: #if the length of the word is not equal to three\n",
    "        new_words.append(word)  #adds it to a new list if the length is not equal to three\n",
    "\n",
    "print(new_words)\n",
    "\n",
    "\n",
    "\n",
    "    \n",
    "    \n",
    "    \n",
    "     \n",
    "\n"
   ]
  },
  {
   "cell_type": "markdown",
   "metadata": {},
   "source": [
    "## If Else Statements with Lists\n"
   ]
  },
  {
   "cell_type": "markdown",
   "metadata": {},
   "source": [
    "## Performing a Binary Search\n",
    "- index: organizing the data by assigning a reference value to each element\n",
    "- Put the number is order either ascending or descending\n",
    "- Search starts with middle number first which is found by adding the highest and lowest index number and dividing it by 2\n",
    "- This divides the range by 2\n",
    "- Repeat this process by shrinking the range each time till the desired target is found\n",
    "- Every time the process is repeated and leads to a target it is considered a comparison\n",
    "\n"
   ]
  },
  {
   "cell_type": "markdown",
   "metadata": {},
   "source": [
    "## Performing a Sequential Search\n",
    "- Each element in a list is examined in the order of the first element till the desired target\n",
    "- Order doesn’t matter"
   ]
  },
  {
   "cell_type": "markdown",
   "metadata": {},
   "source": [
    "## Homework Hack 1\n",
    "- What will be the middle index number in a Binary Search given the set of number: 3, 6, 12, 14, 50, 53\n",
    "- Which of the following lists can a Binary Search be used to find the desired target\n",
    "- This is a multiple choice question"
   ]
  },
  {
   "cell_type": "code",
   "execution_count": null,
   "metadata": {},
   "outputs": [],
   "source": [
    "fruits= ['Apple', 'Carrot', 'Mango', 'Peach']\n",
    "A= [1, 3, 5, 8, 9, ]\n",
    "B= [6, -1, 5, 12, 8]\n",
    "\n",
    "#Type your choices below\n",
    "\n"
   ]
  },
  {
   "cell_type": "markdown",
   "metadata": {},
   "source": [
    "## Homework Hack 2\n",
    "- Given a provided list perform two of the basic operations"
   ]
  },
  {
   "cell_type": "code",
   "execution_count": null,
   "metadata": {},
   "outputs": [],
   "source": [
    "yourlist = [8,10,35,39,49,52]\n",
    "\n",
    "#type out your answers below and run the code and include output in screenshot"
   ]
  }
 ],
 "metadata": {
  "kernelspec": {
   "display_name": "Python 3",
   "language": "python",
   "name": "python3"
  },
  "language_info": {
   "codemirror_mode": {
    "name": "ipython",
    "version": 3
   },
   "file_extension": ".py",
   "mimetype": "text/x-python",
   "name": "python",
   "nbconvert_exporter": "python",
   "pygments_lexer": "ipython3",
   "version": "3.11.4"
  }
 },
 "nbformat": 4,
 "nbformat_minor": 2
}
