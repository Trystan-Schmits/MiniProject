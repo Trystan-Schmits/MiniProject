{
 "cells": [
  {
   "cell_type": "markdown",
   "metadata": {},
   "source": [
    "---\n",
    "toc: true\n",
    "comments: true\n",
    "layout: post\n",
    "title: P4 Simulation\n",
    "description: Lesson for simulations in Python\n",
    "type: collab\n",
    "author: Beijan, Karam, Justin, Rayhan\n",
    "courses: { csp: {week: 10} }\n",
    "unit: 3\n",
    "---"
   ]
  },
  {
   "cell_type": "markdown",
   "metadata": {},
   "source": [
    "# Simulations:\n",
    "## 3.16, 3.17: Simulations and Algorithmic Efficiency"
   ]
  },
  {
   "cell_type": "markdown",
   "metadata": {},
   "source": [
    "<h3> What is a Simulation?</h3>"
   ]
  },
  {
   "cell_type": "markdown",
   "metadata": {},
   "source": [
    "- A simulation, in context of computer science, is a digital representation of a situation in the real world.\n",
    "- Examples:\n",
    "    - Experiments: When an experiment is to dangerous to perform in the real world or too expensive, a simulation can be made of it and be performed digitally.\n",
    "    - Training and Education: Simulations such as flight simulators and medical simulation can be very practical in aiding dangerous proffesions to receive training.\n",
    "    - Video Games: Some video games try to aim to be as releastic as possible with physics and graphics to try to simulate the real world.\n"
   ]
  },
  {
   "cell_type": "markdown",
   "metadata": {},
   "source": [
    "<h3> Simple Dice Roll"
   ]
  },
  {
   "cell_type": "code",
   "execution_count": null,
   "metadata": {},
   "outputs": [],
   "source": [
    "import random\n",
    "\n",
    "def roll_die():\n",
    "    # Gives random integer between 1 and 6\n",
    "    return random.randint(1, 6)\n",
    "\n",
    "# Defines the variable \"result\" as the result of function roll_die()\n",
    "result = roll_die()\n",
    "print(\"Roll:\", result)\n"
   ]
  },
  {
   "cell_type": "markdown",
   "metadata": {},
   "source": [
    "<h3> Dice Roll"
   ]
  },
  {
   "cell_type": "code",
   "execution_count": null,
   "metadata": {},
   "outputs": [],
   "source": [
    "import random\n",
    "\n",
    "def roll_die():\n",
    "    # Gives random integer between 1 and 6\n",
    "    return random.randint(1, 6)\n",
    "\n",
    "def main():\n",
    "    # Allows user to control how many rolls are executed\n",
    "    num_rolls = int(input(\"How many times would you like to roll the die? \"))\n",
    "    \n",
    "    # Makes sure that the entered value is a valid integer\n",
    "    if num_rolls <= 0:\n",
    "        print(\"Please enter a valid number of rolls.\")\n",
    "        return\n",
    "\n",
    "    print(\"Rolling the die\", num_rolls, \"times:\")\n",
    "    \n",
    "    for i in range(num_rolls):\n",
    "        roll_result = roll_die()\n",
    "        print(\"Roll\", i + 1, \":\", roll_result)\n",
    "\n",
    "if __name__ == \"__main__\":\n",
    "   main()"
   ]
  },
  {
   "cell_type": "markdown",
   "metadata": {},
   "source": [
    "## Popcorn Hack #1\n",
    "-Create a similation that generates a random number using the random library and randint like shown above. Be creative."
   ]
  },
  {
   "cell_type": "code",
   "execution_count": null,
   "metadata": {},
   "outputs": [],
   "source": [
    "#Enter code here"
   ]
  },
  {
   "cell_type": "markdown",
   "metadata": {},
   "source": [
    "## 3.17 Algorithmic Efficiency\n",
    "- A problem is a general description of a task that can (or cannot) be solved algorithmically\n",
    "    - A decision problem is a problem with a yes/no answer\n",
    "    - An optimization problem is a problem with the goal of finding the \"best\" solution among many\n",
    "- Efficiency is an estimate of the amount of computational resources used by an algorithm\n",
    "- An algorithm's efficiency is determined through formal or mathematically reasoning"
   ]
  },
  {
   "cell_type": "markdown",
   "metadata": {},
   "source": [
    "One way do demonstrate how algorithmic efficiency can be used to improve a program is through a simple sorting program. "
   ]
  },
  {
   "cell_type": "markdown",
   "metadata": {},
   "source": [
    "## Bubble Sort\n",
    "Bubble Sort is a simple sorting algorithm that repeatedly steps through the list, compares adjacent elements, and swaps them if they are in the wrong order. The pass through the list is repeated until no swaps are needed, which means the list is sorted."
   ]
  },
  {
   "cell_type": "code",
   "execution_count": null,
   "metadata": {},
   "outputs": [],
   "source": [
    "def bubble_sort(list):\n",
    "    n = len(list)\n",
    "    for i in range(n):\n",
    "        for j in range(0, n - i - 1):\n",
    "            if list[j] > list[j + 1]:\n",
    "                list[j], list[j + 1] = list[j + 1], list[j]\n",
    "\n",
    "import random\n",
    "list = [random.randint(1, 10) for _ in range(10)]\n",
    "bubble_sort(list)\n",
    "print(\"Bubble Sorted listay is:\", list)\n",
    " "
   ]
  },
  {
   "cell_type": "markdown",
   "metadata": {},
   "source": [
    "## Popcorn Hack 2\n",
    "- Using bubble sort, make multiple strings that sort alphabetically."
   ]
  },
  {
   "cell_type": "code",
   "execution_count": null,
   "metadata": {},
   "outputs": [],
   "source": [
    "#Enter code here"
   ]
  },
  {
   "cell_type": "markdown",
   "metadata": {},
   "source": [
    "## Quick Sort\n",
    "Quick Sort is a popular divide-and-conquer sorting algorithm. It divides the array into smaller sub-arrays and recursively sorts them. It's generally more efficient than Bubble Sort for larger lists."
   ]
  },
  {
   "cell_type": "code",
   "execution_count": null,
   "metadata": {},
   "outputs": [],
   "source": [
    "def quick_sort(list):\n",
    "    if len(list) <= 1:\n",
    "        return list\n",
    "    else:\n",
    "        pivot = list[0]\n",
    "        less_than_pivot = [x for x in list[1:] if x <= pivot]\n",
    "        greater_than_pivot = [x for x in list[1:] if x > pivot]\n",
    "        return quick_sort(less_than_pivot) + [pivot] + quick_sort(greater_than_pivot)\n",
    "\n",
    "import random\n",
    "list = [random.randint(1, 10) for _ in range(10)]\n",
    "list = quick_sort(list)\n",
    "print(\"Quick Sorted listay is:\", list)\n"
   ]
  },
  {
   "cell_type": "markdown",
   "metadata": {},
   "source": [
    "## Homework Hacks"
   ]
  },
  {
   "cell_type": "markdown",
   "metadata": {},
   "source": [
    "# Hack 1\n",
    "- Create a random decision maker that choses between 2 string options."
   ]
  },
  {
   "cell_type": "code",
   "execution_count": null,
   "metadata": {},
   "outputs": [],
   "source": [
    "#Enter code here"
   ]
  },
  {
   "cell_type": "markdown",
   "metadata": {},
   "source": [
    "# Hack 2\n",
    "Modify the following function that calculates the sum of a range of numbers from 1-99999999 more efficient.\n",
    "Hints:\n",
    "- The formula for finding the sum of an arithmetic series is n/2 * (first_number + last_number) where n is the number of terms.\n",
    "- To find the number of terms in a list, use len(list)\n",
    "- To index the first term of a list, use list[0] and to index the last term, use list[-1]."
   ]
  },
  {
   "cell_type": "code",
   "execution_count": null,
   "metadata": {},
   "outputs": [],
   "source": [
    "#edit this code\n",
    "def calculate_sum(numbers):\n",
    "    total = 0\n",
    "    for num in numbers:\n",
    "        total += num\n",
    "    return total\n",
    "#numbers = [i for i in range(1, 9999999)]\n",
    "print(calculate_sum(numbers))"
   ]
  }
 ],
 "metadata": {
  "kernelspec": {
   "display_name": "Python 3",
   "language": "python",
   "name": "python3"
  },
  "language_info": {
   "codemirror_mode": {
    "name": "ipython",
    "version": 3
   },
   "file_extension": ".py",
   "mimetype": "text/x-python",
   "name": "python",
   "nbconvert_exporter": "python",
   "pygments_lexer": "ipython3",
   "version": "3.11.4"
  },
  "orig_nbformat": 4
 },
 "nbformat": 4,
 "nbformat_minor": 2
}
