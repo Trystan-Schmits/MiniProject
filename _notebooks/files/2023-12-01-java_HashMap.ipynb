{
 "cells": [
  {
   "attachments": {},
   "cell_type": "markdown",
   "metadata": {},
   "source": [
    "---\n",
    "layout: post\n",
    "title: Java, SQL | HashMap | Collection\n",
    "description: Usage of HashMap, HashSet, Collection and combining definitions and usage with SQL\n",
    "courses: { csa: {week: 15} }\n",
    "type: ccc\n",
    "---"
   ]
  },
  {
   "cell_type": "markdown",
   "metadata": {},
   "source": [
    "## Lesson Ideas\n",
    "Add to the basics of HasMap and HashSet below.  Go over storing elements in SQL like HashMap and Collection.  \n",
    "\n",
    "- Include SQL elements JSONB with HashMap\n",
    "- Include SQL ManyToMany relation with Collection\n",
    "\n",
    "Review addition materials like Roles and Activity Tracker <https://nighthawkcoders.github.io/APCSA/1.b/2022/11/17/AP-frq2.html>\n",
    "\n",
    "Here are some SQL definitions in Person.java.\n",
    "\n",
    "```java\n",
    "@ManyToMany(fetch = EAGER)\n",
    "private Collection<PersonRole> roles = new ArrayList<>();\n",
    "\n",
    "/* HashMap is used to store JSON for daily \"stats\"\n",
    "\"stats\": {\n",
    "    \"2022-11-13\": {\n",
    "        \"calories\": 2200,\n",
    "        \"steps\": 8000\n",
    "    }\n",
    "}\n",
    "*/\n",
    "@JdbcTypeCode(SqlTypes.JSON)\n",
    "@Column(columnDefinition = \"jsonb\")\n",
    "private Map<String,Map<String, Object>> stats = new HashMap<>(); \n",
    "```\n"
   ]
  },
  {
   "attachments": {},
   "cell_type": "markdown",
   "metadata": {},
   "source": [
    "## HashMap\n",
    "> Below is an example using a HashMap and listed are some key things to consider when using this data structure.\n",
    "\n",
    "1. Hashing: HashMap uses a hash function to map keys to their corresponding buckets. The hash function is used to compute the index of the array where the key-value pair should be stored. A good hash function should generate a unique hash code for each key, but collisions (i.e., two keys with the same hash code) can still occur.  Hash map in Java does not maintain insertion order either by key or by the order inserted.\n",
    "\n",
    "2. Performance: HashMap provides constant-time performance (O(1)) for get() and put() operations, as long as the hash function is well-distributed and there are no hash collisions. However, in the worst case, the performance of a HashMap can degrade to O(n), where n is the number of elements in the map.\n",
    "\n",
    "3. Key and value types: HashMap allows any non-null object as a key, and any object (including null) as a value. However, to use a class as a key, it must implement the equals() and hashCode() methods. HashMap uses the equals() method to check if two keys are equal, and the hashCode() method to generate the hash code for the key.\n",
    "\n",
    "4. Iteration: HashMap provides several ways to iterate over the key-value pairs in the map, including using keySet(), values(), and entrySet(). The entrySet() method returns a Set view of the key-value pairs in the map, which can be used to iterate over the pairs and modify the map as you go.\n",
    "\n",
    "5. Thread safety: HashMap is not thread-safe, which means that if multiple threads access the same HashMap instance concurrently and at least one thread modifies the map structurally, the behavior is undefined. To make a HashMap thread-safe, you can use the ConcurrentHashMap class instead, which provides concurrent access and is designed for high concurrency. In a Full Stack project it would be best to use a NoSQL database to avoid concurrency issues."
   ]
  },
  {
   "cell_type": "code",
   "execution_count": 17,
   "metadata": {
    "vscode": {
     "languageId": "java"
    }
   },
   "outputs": [],
   "source": [
    "\n",
    "public class Pet  {\n",
    "    // Instance data\n",
    "\tprivate final String name;\n",
    "\tprivate final int age;\n",
    "\tprivate final String color;\n",
    "\n",
    "\t/* constructor\n",
    "\t *\n",
    "\t */\n",
    "\tpublic Pet(String name, int age, String color)\n",
    "\t{\n",
    "\t\tthis.name = name;\n",
    "\t\tthis.age = age;\n",
    "\t\tthis.color = color;\n",
    "\t}\n",
    "\n",
    "\tpublic String getName() { return this.name; }\n",
    "\tpublic int getAge() { return this.age; }\n",
    "\tpublic String getColor() { return this.color; }\n",
    "\n",
    "}"
   ]
  },
  {
   "cell_type": "code",
   "execution_count": 19,
   "metadata": {
    "vscode": {
     "languageId": "java"
    }
   },
   "outputs": [
    {
     "name": "stdout",
     "output_type": "stream",
     "text": [
      "Hobbes is a Calico Kitty and is 1 years old.\n",
      "Leo is a Gold Lion and is 8 years old.\n",
      "Porky is a Pink Pig and is 3 years old.\n",
      "Ro-Ro is a Red Robin and is 7 years old.\n",
      "Duke is a Brown Dog and is 14 years old.\n",
      "Midnight is a Black Cat and is 10 years old.\n",
      "\n",
      "Removed: Hobbes, REPL.$JShell$34$Pet@5f7d8bd3\n",
      "Leo is a Gold Lion and is 8 years old.\n",
      "Porky is a Pink Pig and is 3 years old.\n",
      "Ro-Ro is a Red Robin and is 7 years old.\n",
      "Duke is a Brown Dog and is 14 years old.\n",
      "Midnight is a Black Cat and is 10 years old.\n",
      "\n"
     ]
    }
   ],
   "source": [
    "import java.util.HashMap;\n",
    "\n",
    "public class Pets {\n",
    "    // create a new HashMap\n",
    "    HashMap<String, Pet> names = new HashMap<>();\n",
    "\n",
    "    /* Add Pets\n",
    "     * \n",
    "     */\n",
    "    public Pets() {\n",
    "        // add some key-value pairs to the HashMap\n",
    "        names.put(\"Leo\", new Pet(\"Lion\", 8, \"Gold\"));\n",
    "        names.put(\"Porky\", new Pet(\"Pig\", 3, \"Pink\"));\n",
    "        names.put(\"Ro-Ro\", new Pet(\"Robin\", 7, \"Red\"));\n",
    "        names.put(\"Midnight\", new Pet(\"Cat\", 10, \"Black\"));\n",
    "        names.put(\"Hobbes\", new Pet(\"Kitty\", 1, \"Calico\"));\n",
    "        names.put(\"Duke\", new Pet(\"Dog\", 14, \"Brown\"));\n",
    "    } \n",
    "\n",
    "    /* Remove Pet\n",
    "     * \n",
    "     */\n",
    "    public Pet remove(String key) {\n",
    "        // check if a key exists in the HashMap then remove\n",
    "        Pet pet = null;\n",
    "        if (names.containsKey(key)) {\n",
    "            pet = names.get(key);\n",
    "            names.remove(key);\n",
    "        }\n",
    "        return pet;\n",
    "    }\n",
    "\n",
    "    /* Print Pets\n",
    "     * \n",
    "     */\n",
    "    public void print() {\n",
    "        // iterate over the keys in the HashMap\n",
    "        for (String name: names.keySet()) {\n",
    "            Pet obj = names.get(name);\n",
    "            System.out.println(name + \" is a \" + obj.getColor() + \" \" + obj.getName() + \" and is \" + obj.getAge() + \" years old.\");\n",
    "        }\n",
    "        System.out.println();\n",
    "    }\n",
    "\n",
    "    /* Tester Method\n",
    "     * \n",
    "     */\n",
    "    public static void main(String[] args) {\n",
    "\n",
    "        // intialize Pets\n",
    "        Pets pets = new Pets();\n",
    "        pets.print();\n",
    "        \n",
    "        // remove a Pet\n",
    "        String key = \"Hobbes\";\n",
    "        Pet pet = pets.remove(key);\n",
    "        if (pet == null) {\n",
    "            System.out.println(key + \" not found\");\n",
    "        } else {\n",
    "            System.out.println(\"Removed: \" + key + \", \" + pet);\n",
    "        }\n",
    "        pets.print();\n",
    "\n",
    "    }\n",
    "}\n",
    "Pets.main(null);"
   ]
  },
  {
   "attachments": {},
   "cell_type": "markdown",
   "metadata": {},
   "source": [
    "## HashSet\n",
    "> Below is an example using a java.util.Set and listed are some key things to consider when using this data structure.  A Set works similarly to a key in a HashMap, a Set is just the Key.\n",
    "\n",
    "1. No duplicates: A Set does not allow duplicate elements. If you try to add an element that already exists in the Set, the add() method will return false and the Set will not be modified.  Duplicate add is shown in example.\n",
    "\n",
    "2. Unordered: A Set does not maintain the insertion order of elements. The order of elements in a Set may change as elements are added or removed.\n",
    "\n",
    "3. Equality: Two Sets are considered equal if they have the same elements, regardless of their order. The equals() method is used to test for Set equality.\n",
    "\n",
    "4. Implementation classes: Java provides several implementation classes for the Set interface, including HashSet, LinkedHashSet, and TreeSet. Each implementation has different performance characteristics and is optimized for different use cases.\n",
    "\n",
    "5. Iterator: The iterator() method can be used to iterate over the elements in a Set. The order in which elements are returned by the iterator is not defined and may change over time as elements are added or removed from the Set. The forEach() method is another way to iterate over the elements in a Set, and it allows you to pass a lambda expression to process each element in the Set.  Lambda expression is shown in example."
   ]
  },
  {
   "cell_type": "code",
   "execution_count": 14,
   "metadata": {
    "vscode": {
     "languageId": "java"
    }
   },
   "outputs": [
    {
     "name": "stdout",
     "output_type": "stream",
     "text": [
      "[cat, dog, lion]\n",
      "Has lion: true\n",
      "Removed lion\n",
      "[cat, dog]\n",
      "add duplicate dog\n",
      "[cat, dog]\n",
      "add pig\n",
      "[cat, dog, pig]\n",
      "I don't like cats for pets\n",
      "I like dogs for pets\n",
      "I don't like pigs for pets\n"
     ]
    }
   ],
   "source": [
    "import java.util.HashSet;\n",
    "import java.util.Set;\n",
    "\n",
    "public class petset {\n",
    "    public static void main(String[] args) {\n",
    "        // create a new HashSet\n",
    "        Set<String> pets = new HashSet<>();\n",
    "\n",
    "        // add some elements to the Set\n",
    "        pets.add(\"lion\");\n",
    "        pets.add(\"dog\");\n",
    "        pets.add(\"cat\");\n",
    "\n",
    "        // print out the Set\n",
    "        System.out.println(pets);\n",
    "\n",
    "        // check if an element is in the Set\n",
    "        boolean hasLion = pets.contains(\"lion\");\n",
    "        System.out.println(\"Has lion: \" + hasLion);\n",
    "\n",
    "        // remove an element from the Set\n",
    "        pets.remove(\"lion\");\n",
    "        System.out.println(\"Removed lion\");\n",
    "\n",
    "        // print out the Set\n",
    "        System.out.println(pets);\n",
    "\n",
    "        // add duplicate\n",
    "        System.out.println(\"add duplicate dog\");\n",
    "        pets.add(\"dog\");  // no action\n",
    "        System.out.println(pets);\n",
    "        // add duplicate\n",
    "        System.out.println(\"add pig\");\n",
    "        pets.add(\"pig\");\n",
    "        System.out.println(pets);\n",
    "\n",
    "        // using forEach() method with a lambda expression\n",
    "        pets.forEach(animal -> {\n",
    "            String message = \"I \";\n",
    "            // ternary operation for like, don't like\n",
    "            message += animal.equals(\"dog\") ? \"like\" : \"don't like\";\n",
    "            // complete sentance\n",
    "            message += \" \" + animal + \"s \" + \"for pets\";\n",
    "            System.out.println(message);\n",
    "        });\n",
    "\n",
    "    }\n",
    "}\n",
    "petset.main(null);\n"
   ]
  },
  {
   "attachments": {},
   "cell_type": "markdown",
   "metadata": {},
   "source": [
    "## Hacks\n",
    "Build your own Hashmap and HashSet."
   ]
  }
 ],
 "metadata": {
  "kernelspec": {
   "display_name": "Java",
   "language": "java",
   "name": "java"
  },
  "language_info": {
   "codemirror_mode": "java",
   "file_extension": ".jshell",
   "mimetype": "text/x-java-source",
   "name": "Java",
   "pygments_lexer": "java",
   "version": "21.0.1"
  },
  "orig_nbformat": 4,
  "vscode": {
   "interpreter": {
    "hash": "07efb0c17bd1bebb54bd0de05e4d4c769f7a564dddf5b4c65148f358f9195f99"
   }
  }
 },
 "nbformat": 4,
 "nbformat_minor": 2
}
