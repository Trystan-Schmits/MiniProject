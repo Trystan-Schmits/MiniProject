{
 "cells": [
  {
   "cell_type": "markdown",
   "metadata": {},
   "source": [
    "---\n",
    "layout: post\n",
    "title: GameLevels Lesson / Homework Previews (Outline)\n",
    "description: Local Storage / Character Selection\n",
    "courses: { csse: {week: 14} }\n",
    "type: ccc\n",
    "---"
   ]
  },
  {
   "cell_type": "markdown",
   "metadata": {},
   "source": [
    "# Key Ideas:\n",
    "- What is LocalStorage: The ability to store information inside of a website, repository, etc.\n",
    "- How do we use LocalStorage: We can use local storage using a player and local selection.\n",
    "- Why is LocalStorage important: To prevent the loss of data storage, even when a tab or window is closed."
   ]
  },
  {
   "cell_type": "markdown",
   "metadata": {},
   "source": [
    "# Step 1: Creating the LocalStorage class\n",
    "- First, create the javascript file for LocalStorage. For this lesson, we named it as LocalStorage.js.\n",
    "- Using OOP, we will create the LocalStorage class:"
   ]
  },
  {
   "cell_type": "markdown",
   "metadata": {},
   "source": [
    "[LocalStorage.js code]"
   ]
  },
  {
   "cell_type": "markdown",
   "metadata": {},
   "source": [
    "This is the code for the LocalStorage class. [Define what this code does]"
   ]
  },
  {
   "cell_type": "markdown",
   "metadata": {},
   "source": [
    "# Step 2: Creating the Controller Class"
   ]
  },
  {
   "cell_type": "markdown",
   "metadata": {},
   "source": [
    "[Controller.js Code]"
   ]
  },
  {
   "cell_type": "markdown",
   "metadata": {},
   "source": [
    "[Defining controller.js]"
   ]
  },
  {
   "cell_type": "markdown",
   "metadata": {},
   "source": [
    "# Step 3:"
   ]
  },
  {
   "cell_type": "markdown",
   "metadata": {},
   "source": [
    "# Local Storage Example:\n",
    "\n",
    "<div>\n",
    "<table>\n",
    "    <tr id=\"pasteAfter\">\n",
    "    \t<th>#</th>\n",
    "        <th>name</th>\n",
    "        <th>age</th>\n",
    "    </tr>\n",
    "    <tr>\n",
    "    \t<td><button id=\"incrementRow\">+</button></td>\n",
    "    </tr>\n",
    "</table>\n",
    "<button id=\"save\">save</button>\n",
    "<button id=\"load\">load</button>\n",
    "<p id=\"storageCheck\"></p>\n",
    "</div>\n",
    "\n",
    "<script>\n",
    "var count = 0;\n",
    "var storageC;\n",
    "var pasteAfter = document.getElementById(\"pasteAfter\");\n",
    "var incrementRow = document.getElementById(\"incrementRow\");\n",
    "var storageExists = document.getElementById(\"storageCheck\");\n",
    "var saveButton = document.getElementById(\"save\");\n",
    "var loadButton = document.getElementById(\"load\");\n",
    "\n",
    "var key = \"myKeyValue\";\n",
    "\n",
    "var rows=[];\n",
    "function addRow(v1,v2){\n",
    "    var current = count.toFixed(0); //copy the current count for the current row\n",
    "    rows.push([]);\n",
    "\n",
    "\t  var row = document.createElement(\"tr\"); //create a row\n",
    "\n",
    "    var td1 = document.createElement(\"td\");\n",
    "    td1.innerText = String(count);\n",
    "    row.append(td1);\n",
    "    \n",
    "    var td2 = document.createElement(\"td\");\n",
    "    var input1 = document.createElement(\"input\");\n",
    "    input1.type = \"text\";\n",
    "    input1.value = v1?v1:\"\";\n",
    "    rows[count].push(input1.value);\n",
    "    input1.addEventListener(\"focusout\",()=>{rows[current][0]=input1.value}); //listen for updates to inputfeild\n",
    "    td2.append(input1);\n",
    "    row.append(td2);\n",
    "    \n",
    "    var td3 = document.createElement(\"td\");\n",
    "    var input2 = document.createElement(\"input\");\n",
    "    input2.type = \"number\";\n",
    "    input2.value = v2?v2:0;\n",
    "    rows[count].push(input2.value);\n",
    "    input2.addEventListener(\"focusout\",()=>{rows[current][1]=input2.value});//listen for updates to inputfeild\n",
    "    td3.append(input2);\n",
    "    row.append(td3);\n",
    "    \n",
    "    pasteAfter.insertAdjacentElement(\"afterend\",row); //paste row into table\n",
    "\n",
    "    count += 1; //increment count\n",
    "}\n",
    "\n",
    "///// not my code, but checks if browser has localstorage\n",
    "function storageAvailable(type) {\n",
    "  let storage;\n",
    "  try {\n",
    "    storage = window[type];\n",
    "    const x = \"__storage_test__\";\n",
    "    storage.setItem(x, x);\n",
    "    storage.removeItem(x);\n",
    "    return true;\n",
    "  } catch (e) {\n",
    "    return (\n",
    "      e instanceof DOMException &&\n",
    "      // everything except Firefox\n",
    "      (e.code === 22 ||\n",
    "        // Firefox\n",
    "        e.code === 1014 ||\n",
    "        // test name field too, because code might not be present\n",
    "        // everything except Firefox\n",
    "        e.name === \"QuotaExceededError\" ||\n",
    "        // Firefox\n",
    "        e.name === \"NS_ERROR_DOM_QUOTA_REACHED\") &&\n",
    "      // acknowledge QuotaExceededError only if there's something already stored\n",
    "      storage &&\n",
    "      storage.length !== 0\n",
    "    );\n",
    "  }\n",
    "}\n",
    "if (storageAvailable(\"localStorage\")) {\n",
    "    storageExists.innerText = \"Local Storage Available\";\n",
    "    storageC = true;\n",
    "  // Yippee! We can use localStorage awesomeness\n",
    "} else {\n",
    "    storageC = false;\n",
    "    storageExists.innerText = \"Local Storage Not Available\";\n",
    "  // Too bad, no localStorage for us\n",
    "}\n",
    "\n",
    "function load(){\n",
    "    if (!storageC){\n",
    "        console.log(\"cannot access local storage\");\n",
    "        return;\n",
    "    }\n",
    "    var list = window.localStorage.getItem(key);\n",
    "    if (list){\n",
    "        var array1 = list.split(\",\"); //data is saved as a string, convert to array\n",
    "        for(let i = 0;i<array1.length;i+=2){\n",
    "            addRow(array1[i],array1[i+1]);\n",
    "        }\n",
    "    }\n",
    "    else {\n",
    "        console.log(\"data may not exist\");\n",
    "    }\n",
    "}\n",
    "\n",
    "function save(){\n",
    "    console.log(rows);\n",
    "    if (!storageC){\n",
    "        console.log(\"cannot access local storage\");\n",
    "        return;\n",
    "    }\n",
    "    window.localStorage.clear(); //clear existing data\n",
    "\n",
    "    //replace data\n",
    "    window.localStorage.setItem(key,rows); //data is converted to string automatically\n",
    "}\n",
    "//listen for button presses\n",
    "incrementRow.addEventListener(\"click\",()=>{addRow()});\n",
    "saveButton.addEventListener(\"click\",save);\n",
    "loadButton.addEventListener(\"click\",load);\n",
    "</script>"
   ]
  },
  {
   "cell_type": "markdown",
   "metadata": {},
   "source": [
    "# Homework:\n",
    "- For this lesson, we're going to use Object Orienting Programming\n",
    "- We do this by modifying the GameEnvironment and GameLevels in particular.\n",
    "- How to add LocalStorage? (Lecture for a few minutes)"
   ]
  },
  {
   "cell_type": "markdown",
   "metadata": {},
   "source": [
    "# Future Ideas:\n",
    "- Settings\n",
    "- Make custom character or take it from the internet (in general, make a character that’s now mario or a monkey)\n",
    "- “What is Parallax? Google definition of Parallax: PropBASIC is a BASIC programming language for the Parallax Propeller Microcontroller. PropBASIC requires Brad's Spin Tool (BST), a cross-platform set of tools for developing with the Parallax Propeller."
   ]
  },
  {
   "cell_type": "markdown",
   "metadata": {},
   "source": [
    "# Developing the Lecture/Game:\n",
    "- How to save the game even when the tab or window is closed. This can be useful to prevent people who are far in a game and accidentally close out their window. \n",
    "- Using LocalStorage, the game will be saved and they wouldn’t lose much data compared to if they don’t have LocalStorage. \n",
    "- GameControl is also a key part to LocalStorage, as it transitions between the levels in the game. This is also essential to LocalStorage because it can also prevent data loss.\n",
    "Look more into the assets and objects used."
   ]
  },
  {
   "cell_type": "markdown",
   "metadata": {},
   "source": [
    "# Misc.\n",
    "Document getElementByID imports the idea put inside of the parentheses and quotations, which follows with addEventListener to import the action that the user would do.\n",
    "- This sets up a base to generate a table and allows events such as GameEnv, GameLevel, and GameControl to be imported inside of that table and be linked in the same drive."
   ]
  }
 ],
 "metadata": {
  "language_info": {
   "name": "python"
  },
  "orig_nbformat": 4
 },
 "nbformat": 4,
 "nbformat_minor": 2
}
