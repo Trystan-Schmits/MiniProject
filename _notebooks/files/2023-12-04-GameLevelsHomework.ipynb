{
 "cells": [
  {
   "cell_type": "markdown",
   "metadata": {},
   "source": [
    "---\n",
    "layout: post\n",
    "title: GameLevels Lesson / Homework Previews (Outline)\n",
    "description: Local Storage / Character Selection\n",
    "courses: { csse: {week: 14} }\n",
    "type: collab\n",
    "---\n",
    "\n",
    "# Key Ideas:\n",
    "- What is LocalStorage: The ability to store information inside of a website, repository, etc.\n",
    "- How do we use LocalStorage: We can use local storage using a player and local selection.\n",
    "- Why is LocalStorage important: To prevent the loss of data storage, even when a tab or window is closed.\n",
    "\n",
    "# Homework:\n",
    "- For this lesson, we're going to use Object Orienting Programming\n",
    "- We do this by modifying the GameEnvironment and GameLevels in particular.\n",
    "- How to add LocalStorage? (Lecture for a few minutes)\n",
    "\n",
    "# Future Ideas:\n",
    "- Settings\n",
    "- Make custom character or take it from the internet (in general, make a character that’s now mario or a monkey)\n",
    "- “What is Parallax? Google definition of Parallax: PropBASIC is a BASIC programming language for the Parallax Propeller Microcontroller. PropBASIC requires Brad's Spin Tool (BST), a cross-platform set of tools for developing with the Parallax Propeller.\n",
    "\n",
    "# Developing the Lecture/Game:\n",
    "- How to save the game even when the tab or window is closed. This can be useful to prevent people who are far in a game and accidentally close out their window. \n",
    "- Using LocalStorage, the game will be saved and they wouldn’t lose much data compared to if they don’t have LocalStorage. \n",
    "- GameControl is also a key part to LocalStorage, as it transitions between the levels in the game. This is also essential to LocalStorage because it can also prevent data loss.\n",
    "Look more into the assets and objects used.\n",
    "\n",
    "# Misc.\n",
    "Document getElementByID imports the idea put inside of the parentheses and quotations, which follows with addEventListener to import the action that the user would do.\n",
    "- This sets up a base to generate a table and allows events such as GameEnv, GameLevel, and GameControl to be imported inside of that table and be linked in the same drive.\n"
   ]
  },
  {
   "cell_type": "markdown",
   "metadata": {},
   "source": []
  }
 ],
 "metadata": {
  "language_info": {
   "name": "python"
  },
  "orig_nbformat": 4
 },
 "nbformat": 4,
 "nbformat_minor": 2
}
